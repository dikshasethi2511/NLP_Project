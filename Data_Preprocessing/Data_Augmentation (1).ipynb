{
  "nbformat": 4,
  "nbformat_minor": 0,
  "metadata": {
    "colab": {
      "provenance": [],
      "toc_visible": true
    },
    "kernelspec": {
      "name": "python3",
      "display_name": "Python 3"
    },
    "language_info": {
      "name": "python"
    }
  },
  "cells": [
    {
      "cell_type": "code",
      "source": [
        "!pip install nlpaug"
      ],
      "metadata": {
        "colab": {
          "base_uri": "https://localhost:8080/"
        },
        "id": "qx2idBwpnu3Q",
        "outputId": "a32a3a91-46a1-49cc-a649-491b28b7be0d"
      },
      "execution_count": null,
      "outputs": [
        {
          "output_type": "stream",
          "name": "stdout",
          "text": [
            "Looking in indexes: https://pypi.org/simple, https://us-python.pkg.dev/colab-wheels/public/simple/\n",
            "Requirement already satisfied: nlpaug in /usr/local/lib/python3.8/dist-packages (1.1.11)\n",
            "Requirement already satisfied: pandas>=1.2.0 in /usr/local/lib/python3.8/dist-packages (from nlpaug) (1.3.5)\n",
            "Requirement already satisfied: requests>=2.22.0 in /usr/local/lib/python3.8/dist-packages (from nlpaug) (2.23.0)\n",
            "Requirement already satisfied: gdown>=4.0.0 in /usr/local/lib/python3.8/dist-packages (from nlpaug) (4.4.0)\n",
            "Requirement already satisfied: numpy>=1.16.2 in /usr/local/lib/python3.8/dist-packages (from nlpaug) (1.21.6)\n",
            "Requirement already satisfied: tqdm in /usr/local/lib/python3.8/dist-packages (from gdown>=4.0.0->nlpaug) (4.64.1)\n",
            "Requirement already satisfied: filelock in /usr/local/lib/python3.8/dist-packages (from gdown>=4.0.0->nlpaug) (3.8.0)\n",
            "Requirement already satisfied: six in /usr/local/lib/python3.8/dist-packages (from gdown>=4.0.0->nlpaug) (1.15.0)\n",
            "Requirement already satisfied: beautifulsoup4 in /usr/local/lib/python3.8/dist-packages (from gdown>=4.0.0->nlpaug) (4.6.3)\n",
            "Requirement already satisfied: python-dateutil>=2.7.3 in /usr/local/lib/python3.8/dist-packages (from pandas>=1.2.0->nlpaug) (2.8.2)\n",
            "Requirement already satisfied: pytz>=2017.3 in /usr/local/lib/python3.8/dist-packages (from pandas>=1.2.0->nlpaug) (2022.6)\n",
            "Requirement already satisfied: certifi>=2017.4.17 in /usr/local/lib/python3.8/dist-packages (from requests>=2.22.0->nlpaug) (2022.9.24)\n",
            "Requirement already satisfied: idna<3,>=2.5 in /usr/local/lib/python3.8/dist-packages (from requests>=2.22.0->nlpaug) (2.10)\n",
            "Requirement already satisfied: urllib3!=1.25.0,!=1.25.1,<1.26,>=1.21.1 in /usr/local/lib/python3.8/dist-packages (from requests>=2.22.0->nlpaug) (1.24.3)\n",
            "Requirement already satisfied: chardet<4,>=3.0.2 in /usr/local/lib/python3.8/dist-packages (from requests>=2.22.0->nlpaug) (3.0.4)\n",
            "Requirement already satisfied: PySocks!=1.5.7,>=1.5.6 in /usr/local/lib/python3.8/dist-packages (from requests>=2.22.0->nlpaug) (1.7.1)\n"
          ]
        }
      ]
    },
    {
      "cell_type": "code",
      "source": [
        "!pip install transformers"
      ],
      "metadata": {
        "colab": {
          "base_uri": "https://localhost:8080/"
        },
        "id": "kkNNyNhRsCo_",
        "outputId": "8d1f483a-caee-4f1a-b7dc-dddafaa17506"
      },
      "execution_count": null,
      "outputs": [
        {
          "output_type": "stream",
          "name": "stdout",
          "text": [
            "Looking in indexes: https://pypi.org/simple, https://us-python.pkg.dev/colab-wheels/public/simple/\n",
            "Requirement already satisfied: transformers in /usr/local/lib/python3.8/dist-packages (4.25.1)\n",
            "Requirement already satisfied: huggingface-hub<1.0,>=0.10.0 in /usr/local/lib/python3.8/dist-packages (from transformers) (0.11.1)\n",
            "Requirement already satisfied: packaging>=20.0 in /usr/local/lib/python3.8/dist-packages (from transformers) (21.3)\n",
            "Requirement already satisfied: filelock in /usr/local/lib/python3.8/dist-packages (from transformers) (3.8.0)\n",
            "Requirement already satisfied: numpy>=1.17 in /usr/local/lib/python3.8/dist-packages (from transformers) (1.21.6)\n",
            "Requirement already satisfied: tokenizers!=0.11.3,<0.14,>=0.11.1 in /usr/local/lib/python3.8/dist-packages (from transformers) (0.13.2)\n",
            "Requirement already satisfied: requests in /usr/local/lib/python3.8/dist-packages (from transformers) (2.23.0)\n",
            "Requirement already satisfied: tqdm>=4.27 in /usr/local/lib/python3.8/dist-packages (from transformers) (4.64.1)\n",
            "Requirement already satisfied: regex!=2019.12.17 in /usr/local/lib/python3.8/dist-packages (from transformers) (2022.6.2)\n",
            "Requirement already satisfied: pyyaml>=5.1 in /usr/local/lib/python3.8/dist-packages (from transformers) (6.0)\n",
            "Requirement already satisfied: typing-extensions>=3.7.4.3 in /usr/local/lib/python3.8/dist-packages (from huggingface-hub<1.0,>=0.10.0->transformers) (4.1.1)\n",
            "Requirement already satisfied: pyparsing!=3.0.5,>=2.0.2 in /usr/local/lib/python3.8/dist-packages (from packaging>=20.0->transformers) (3.0.9)\n",
            "Requirement already satisfied: certifi>=2017.4.17 in /usr/local/lib/python3.8/dist-packages (from requests->transformers) (2022.9.24)\n",
            "Requirement already satisfied: chardet<4,>=3.0.2 in /usr/local/lib/python3.8/dist-packages (from requests->transformers) (3.0.4)\n",
            "Requirement already satisfied: idna<3,>=2.5 in /usr/local/lib/python3.8/dist-packages (from requests->transformers) (2.10)\n",
            "Requirement already satisfied: urllib3!=1.25.0,!=1.25.1,<1.26,>=1.21.1 in /usr/local/lib/python3.8/dist-packages (from requests->transformers) (1.24.3)\n"
          ]
        }
      ]
    },
    {
      "cell_type": "code",
      "execution_count": null,
      "metadata": {
        "id": "aeLWQeA1ndIc"
      },
      "outputs": [],
      "source": [
        "import nlpaug\n",
        "import nlpaug.augmenter.word as naw\n",
        "import nlpaug.augmenter.char as nac\n",
        "import pandas as pd\n",
        "from tqdm import tqdm\n",
        "import numpy as np"
      ]
    },
    {
      "cell_type": "code",
      "source": [
        "from google.colab import drive\n",
        "drive.mount('/content/drive')"
      ],
      "metadata": {
        "colab": {
          "base_uri": "https://localhost:8080/"
        },
        "id": "AsQMrM5nnn4G",
        "outputId": "17ea061b-fdcb-4cb3-bb4b-b1f4fb70342f"
      },
      "execution_count": null,
      "outputs": [
        {
          "output_type": "stream",
          "name": "stdout",
          "text": [
            "Drive already mounted at /content/drive; to attempt to forcibly remount, call drive.mount(\"/content/drive\", force_remount=True).\n"
          ]
        }
      ]
    },
    {
      "cell_type": "code",
      "source": [
        "train_dataset = pd.read_csv('/content/drive/MyDrive/NLP_Project_Dataset/H3_Multiclass_Hate_Speech_Detection_train_preprocessed.csv')\n",
        "test_dataset = pd.read_csv('/content/drive/MyDrive/NLP_Project_Dataset/H3_Multiclass_Hate_Speech_Detection_test_preprocessed.csv')"
      ],
      "metadata": {
        "id": "iwBeaT-doEia"
      },
      "execution_count": null,
      "outputs": []
    },
    {
      "cell_type": "code",
      "source": [
        "ctx_aug = naw.ContextualWordEmbsAug(model_path='bert-base-uncased', action=\"insert\", aug_min=15, aug_max = 70)"
      ],
      "metadata": {
        "id": "Vt29ERKRr_rn"
      },
      "execution_count": null,
      "outputs": []
    },
    {
      "cell_type": "code",
      "source": [
        "train_dataset.groupby(\"label\").size()"
      ],
      "metadata": {
        "colab": {
          "base_uri": "https://localhost:8080/"
        },
        "id": "yJVxtmz7tsnP",
        "outputId": "8be4c941-19cc-4e93-d5a4-193e7d5f0c90"
      },
      "execution_count": null,
      "outputs": [
        {
          "output_type": "execute_result",
          "data": {
            "text/plain": [
              "label\n",
              "0     1137\n",
              "1    15398\n",
              "2     3291\n",
              "dtype: int64"
            ]
          },
          "metadata": {},
          "execution_count": 63
        }
      ]
    },
    {
      "cell_type": "code",
      "source": [
        "label_0 = train_dataset[train_dataset.label==0][\"tweet\"].values"
      ],
      "metadata": {
        "id": "S4CNCvpVuE5L"
      },
      "execution_count": null,
      "outputs": []
    },
    {
      "cell_type": "code",
      "source": [
        "label_2 = train_dataset[train_dataset.label==2][\"tweet\"].values"
      ],
      "metadata": {
        "id": "3qICzqwmuQoU"
      },
      "execution_count": null,
      "outputs": []
    },
    {
      "cell_type": "code",
      "source": [
        "data = []\n",
        "for tweet in tqdm(label_0):\n",
        "    data.append(ctx_aug.augment(tweet))"
      ],
      "metadata": {
        "colab": {
          "base_uri": "https://localhost:8080/"
        },
        "id": "ODKnD_BtuutU",
        "outputId": "4f6b6a5b-c921-40a7-9985-2ef56acea8d6"
      },
      "execution_count": null,
      "outputs": [
        {
          "output_type": "stream",
          "name": "stderr",
          "text": [
            "100%|██████████| 1137/1137 [00:01<00:00, 977.67it/s]\n"
          ]
        }
      ]
    },
    {
      "cell_type": "code",
      "source": [
        "flattened = np.array(data).flatten()"
      ],
      "metadata": {
        "id": "wev_RSE77VUL"
      },
      "execution_count": null,
      "outputs": []
    },
    {
      "cell_type": "code",
      "source": [
        "flattened[:100]"
      ],
      "metadata": {
        "colab": {
          "base_uri": "https://localhost:8080/"
        },
        "id": "vGj5vOLZiMAO",
        "outputId": "aecdc5b3-1db5-4ef7-e11c-8c77b929b3e8"
      },
      "execution_count": null,
      "outputs": [
        {
          "output_type": "execute_result",
          "data": {
            "text/plain": [
              "array(['al noooo too late fuckin faggot lmao',\n",
              "       'rt < username > idc what phone u got lol silly nigger',\n",
              "       'omg you wont say it to my face stupid ass hoes talkin shit imma whoop her ass over dramatic teenage girls',\n",
              "       '< username > nigger',\n",
              "       '< username > fuckin muzzie cunts should all be deported savages',\n",
              "       'so i decided to drive to the good walmart where the colored folks dont go bc its food here',\n",
              "       'rt < username > lebron your still a bitch you suck nigger hope you die',\n",
              "       '< username > < username > < username > i dont likes dat magazine all da black folk look like dey one chromeasome away from da ape',\n",
              "       'every slant in losangeles should be deported those scum have no right to be here chinatown should be bulldozed',\n",
              "       '< username > the fuck r u talking about i told u once and am going to tell u against nigga i love white bitch gtf bro',\n",
              "       '< username > big fucking dealcry baby niggers',\n",
              "       '< username > my bitch dont want your ugly ass gtfo ol peyton manning lookin ass',\n",
              "       'i find it funny when fags write looking for bf on a grindr ap lol thats a fucking ap dumbass',\n",
              "       '& 8220 < username > < username > < username > damn they got wifey & 128561 & 128561 & 128534 & 128534 & 128555 & 128553 & 128553 & 128553 & 8221 fall back nigga & 128299 i dont share my hoes',\n",
              "       'i still think snap chat for faggots and high schoolers',\n",
              "       '& 8220 < username > just got done with my last final and im walkin around campus like i own this place & 8221 queer',\n",
              "       'goes to olive garden turns into a cracker < username > goes black friday shopping turns into a nigger',\n",
              "       'nigga just had them crackers on a chase',\n",
              "       'guy complains to me gays are oversensitive my response and look at you complaining like little pussy waahh waahh hypocrite',\n",
              "       '< username > niggas probably be watching me like look at this uncle tom ass rasta',\n",
              "       '< username > fight me 1 on 1 ur choice of game faggot see what happens',\n",
              "       'you some type of special faggot if you bring chocolate swishers to a smoke session',\n",
              "       'every spic cop in losangeles has raped or has thought about raping a white woman thats why those halfbreeds get jobs as pigs',\n",
              "       'cussed out by a fat redneck on the last day yolo < username > < username > < username > & 128514 & 128514',\n",
              "       '< username > and < username > are faggots kbye',\n",
              "       '< username > but i live in the south lot more here my pop lives in rhode island hardly no niggers there',\n",
              "       '< username > < username > your a nasty nigger whore',\n",
              "       'bitch ass nigga be hating on black women uncle tom bitch punk',\n",
              "       'i missing something of my ofay friends day all scared by da recent happenings dont chu worryol lamar say you like da colored folk',\n",
              "       'rt < username > more queer lady templars thats my point',\n",
              "       'faux noise pundits dont like duck molester proslavery racist homophobic teabagger darling phil robertson either < url >',\n",
              "       'fuck ass redskin corners',\n",
              "       'well gahdamn rt < username > wooooow & 8220 < username > good job mommy cutest thing blue ivy ever done she still an ugly nigger baby & 8221',\n",
              "       'brady heard yall say he was washed now he washing the league on you hoe ass niggas',\n",
              "       '< username > < username > < username > look at this nigger ass nigger shit right here',\n",
              "       '< username > < username > dryer then them bad ass eyes of your fag',\n",
              "       '< username > you are full of it these so called children are not children they are illegal border jumpers ms gang members',\n",
              "       'if you say any of the following words the convo is over nigger nigga swag yolo fag retard',\n",
              "       '< username > shut your legs hoe',\n",
              "       '< username > we are being overrun by mongrels because zog or the jews that run our countries want the white man to perish',\n",
              "       'bitches be like im mixed wit italian chinese nd african american i be like bitch just cuz you ate ur & 8230 < url >',\n",
              "       '< username > shut your dirty dirt trap you limp knees ashy footed blue balls isolated hamster wheel no nipples bitch',\n",
              "       'america is white trash and so are all americans',\n",
              "       '< username > < username > < username > lmao madonnas music sucks yeah youre fucking stupid if you think gaga is better retard',\n",
              "       '< username > < username > < username > your getting blocked faggot',\n",
              "       'rt < username > you got niggas & amp i got bitches but i want you & 128149 & 127926',\n",
              "       'george michael such a fag',\n",
              "       '< username > < username > dont forget nappy headed butt ugly bitch whos married to a muslim',\n",
              "       'roman catholics in the us are trash they give catholics in europe a bad name',\n",
              "       'diversity chcgo blck pstr flooded w dth threats ovr endorsement of gop candidate & 8220u sellout uncle tom ass ngger & 8221 < url >',\n",
              "       '< username > faggot i knew you werent really my friend',\n",
              "       'flaming faggots that publicly state how they want everything handed to them like fuck you dude get off your bottom ass and do something',\n",
              "       'only americans would hire white trash with ties to international terrorism as police officers',\n",
              "       '< username > the you & 8217re going 2have 2 kill crackers & amp their babies & 8221 new black panthers credibilityshot fergusonriot justice 4mikebrown',\n",
              "       'its this dyke chick cut hair in the barbershop look just like future',\n",
              "       '< username > < username > < username > shit your ass and shabbat your moms pussy u jew bastard ur times coming heil hitler',\n",
              "       '< username > ok u fat precious lookin ass bitch u big fat back at the barnyard lookin ass bitch i can fix my grammar but u still fat',\n",
              "       'faggot ass bitch nigga',\n",
              "       'trayvonmartin referred to zimmerman as a creepy ass cracker racist thug',\n",
              "       'rt < username > dont be a faggot cover your mouth when you fkn cough or sneeze i got a immune system to keep strong asshole',\n",
              "       'bumped into a bitch that filed for sexual harassment at work against a coworkeri aint been so shook in my life',\n",
              "       'niggas be in they feelings when they find out their hoe fuckin another nigga stopsavinthesehoes',\n",
              "       'rt < username > some black guy at my school asked if there were colored printers in the library its 2014 man you can use any printer you & 8230',\n",
              "       'this nigglet & 10084 & 65039', 'lakers are trash right now',\n",
              "       '< username > you a fatherless wallet carrying ass video game playing ass negro breh you filth no way you can afford to date a twitterhoney',\n",
              "       '& 8220 < username > if u ask me every bitch gay & 8221or bi',\n",
              "       '< username > fag',\n",
              "       '< username > sion is a faggot very meh ganks pre 6 and post 6 his ganks are still pretty meh hes just a tank nothing special imo mao',\n",
              "       '< username > kill the coons',\n",
              "       'rt < username > fuck michelle obama that monkey doesnt belong in the white house',\n",
              "       '< username > < username > < username > the nig is fun to watch got to admit ebola boy can speak broken spanish too lol',\n",
              "       'rt < username > proudly a racist u dumb nigger',\n",
              "       '< username > sounds like a good idea but i want my word to be spread jews niggers and commies alike',\n",
              "       'happppppy birthdayyyy & 1041191 & 1041196 & 1043215 lol niggahs is really 21 in this bitch & 1043358 & 1041219 < url >',\n",
              "       '< username > whatever hoe bitch 1 them fags beat yall sad asses too',\n",
              "       '< username > < username > lmao nigga shoulda said i would be balless bc dat cold bitch wont stop blowin meswaagg',\n",
              "       '< username > < username > say that shit to my face bruh you a bitch for gettin in a man u dont know business handle yo own shit',\n",
              "       '< username > some negro amigo pulled a gun on nate and i a few weeks ago i was stoked & 128299 & 128299 & 128299',\n",
              "       'lmaooo rt < username > she a tranny if she can open a jar of pickles by herself',\n",
              "       '< username > damn took this dumb spic nearly 2 days to respond wuz really good tho beaner',\n",
              "       '< username > so basically you like the background music fag',\n",
              "       'have you eva asked a nicca where dey got sum fake designer frm',\n",
              "       'rt < username > & 8220 < username > the bromance between pat and ant is real & 8221 fuck that faggot',\n",
              "       '< username > < username > < username > < username > go back to lego club faggot',\n",
              "       '< username > i dont bend that way queer thanks for the offer its flattering',\n",
              "       'rt < username > african colored car i push niggerous whips',\n",
              "       'dutch people who live outside of newyorkcity are all white trash',\n",
              "       'seem like da colored folk be gettin in da way lately i just sayin',\n",
              "       'rt < username > why ya niggas be gassin these wack ass bitches & 128553 & 128553',\n",
              "       'oregon losing in oregon ahhhahahaha faggots',\n",
              "       'im going to sell my iphone and both my macs i dont support faggots',\n",
              "       'rt < username > u hoes going to church this morning like yall wasnt busting it wide open for niggas about 4 hours ago',\n",
              "       '< username > < username > lmao dude you are probably the biggest fag in nebraska & 128514 & 128514 & 128514 & 128514 & 128514',\n",
              "       'wish i coulda said more to < username > tonight good seeing you fag & 128540',\n",
              "       'heard that bitch gtta thang for them boss niggas',\n",
              "       '< username > bitch shut the fuck up goddam your a slut bitch whore nigga',\n",
              "       'california is full of white trash', 'this niggah know wassup',\n",
              "       'bitch youre white stfu with your shitty spanish'], dtype='<U246')"
            ]
          },
          "metadata": {},
          "execution_count": 71
        }
      ]
    },
    {
      "cell_type": "code",
      "source": [
        "syn_aug = naw.SynonymAug(aug_src='wordnet', aug_min = 15, aug_max = 70)"
      ],
      "metadata": {
        "id": "Lb6kj9RI7ezq"
      },
      "execution_count": null,
      "outputs": []
    },
    {
      "cell_type": "code",
      "source": [
        "data_2 = []\n",
        "for tweet in tqdm(label_0):\n",
        "    data_2.append(syn_aug.augment(tweet, n = 2))"
      ],
      "metadata": {
        "id": "PBLeSSTl7ijK",
        "colab": {
          "base_uri": "https://localhost:8080/"
        },
        "outputId": "24031ad9-ec55-46f7-b536-d7ef98d5c6ea"
      },
      "execution_count": null,
      "outputs": [
        {
          "output_type": "stream",
          "name": "stderr",
          "text": [
            "100%|██████████| 1137/1137 [00:04<00:00, 269.58it/s]\n"
          ]
        }
      ]
    },
    {
      "cell_type": "code",
      "source": [
        "data_2 = np.array(data_2).flatten()"
      ],
      "metadata": {
        "id": "FbzesUFh7oIL"
      },
      "execution_count": null,
      "outputs": []
    },
    {
      "cell_type": "code",
      "source": [
        "data_2[:50]"
      ],
      "metadata": {
        "colab": {
          "base_uri": "https://localhost:8080/"
        },
        "id": "dhdMechmitah",
        "outputId": "1d3fbd5e-2bfb-40c7-bed1-c98a3270042d"
      },
      "execution_count": null,
      "outputs": [
        {
          "output_type": "execute_result",
          "data": {
            "text/plain": [
              "array(['al noooo excessively tardy fuckin fagot lmao',\n",
              "       'al noooo to a fault previous fuckin fagot lmao',\n",
              "       'rt <username> idc what telephone u cause lol silly nigra',\n",
              "       'rt <username> idc what telephone set u incur lol silly spade',\n",
              "       'omg you wont articulate information technology to my grimace dazed ass hoe talkin shit imma whoop her nooky all over striking teenage young lady',\n",
              "       'omg you wont enjoin information technology to my side stupid as hoe talkin shit imma whoop her ass concluded striking teenage female child',\n",
              "       '< username> jigaboo', '< username> nigga',\n",
              "       '< username> fuckin muzzie pussy should all personify extradite barbarian',\n",
              "       '< username> fuckin muzzie snatch should all live bear savage',\n",
              "       'so i resolve to push to the honest walmart where the non white folk dont get bc information technology nutrient hither',\n",
              "       'thusly i determine to labour to the sound walmart where the colored family line dont run low bc information technology intellectual nourishment hither',\n",
              "       \"rt <username> lebron your even so a cunt you breastfeed nigger leslie townes hope you cash in one's chips\",\n",
              "       'rt <username> lebron your withal a cunt you absorb nigger bob hope you expire',\n",
              "       '< username> <username> <username> single dont like dat magazine all da dark ethnic music look same dey i chromeasome aside from district attorney ape',\n",
              "       '< username> <username> <username> one dont like dat powder magazine all da black market sept tone comparable dey unrivalled chromeasome aside from district attorney copycat',\n",
              "       'every angle in losangeles should cost expatriate those trash possess no right field to live hither chinatown should follow bulldoze',\n",
              "       'every angle in losangeles should equal carry those trash consume no right wing to constitute hither chinatown should personify bulldoze',\n",
              "       '< username> the fuck radius u talk astir iodin narrate u once and be going to severalize u against nigga 1 have sex white bitch gtf bro',\n",
              "       '< username> the fuck r u verbalise about iodin say u erst and am go to tell u against nigga i do it clean cunt gtf bro',\n",
              "       '< username> adult screw dealcry babe nigger',\n",
              "       '< username> large shtup dealcry babe jigaboo',\n",
              "       '< username> my squawk dont require your despicable fundament gtfo ol peyton man lookin nooky',\n",
              "       '< username> my kick dont desire your frightful rear gtfo ol peyton man lookin shag',\n",
              "       'i find information technology suspect when nance publish appear for bf on a grindr ap lol thats a screwing ap knucklehead',\n",
              "       'i feel information technology rum when poove save looking for bf on a grindr ap lol thats a screwing ap dumbass',\n",
              "       \"& 8220 <username> <username> <username> tinker's dam they got wifey & 128561 & 128561 & 128534 & 128534 & 128555 & 128553 & 128553 & 128553 & 8221 autumn backwards nigga & 128299 i dont portion my hoes\",\n",
              "       '& 8220 <username> <username> <username> shucks they got wifey & 128561 & 128561 & 128534 & 128534 & 128555 & 128553 & 128553 & 128553 & 8221 fall rearwards nigga & 128299 unity dont portion my hoe',\n",
              "       'single nonetheless call back snap schmooze for faggot and in high spirits schoolers',\n",
              "       'iodin withal consider snap old world chat for fagot and mellow schoolers',\n",
              "       '& 8220 <username> just got behave with my last last and im walkin around campus like 1 have this spot & 8221 poove',\n",
              "       '& 8220 <username> just now catch set with my last final and im walkin around campus corresponding one possess this office & 8221 nance',\n",
              "       'go to olive garden change by reversal into a firecracker <username> move ignominious fri shopping turn into a nigga',\n",
              "       'go to olive garden rick into a snapper <username> go contraband fri shopping turn into a nigga',\n",
              "       'nigger hardly take them cracker on a following',\n",
              "       'nigra but hold them cracker on a salmon portland chase',\n",
              "       'guy wire quetch to me homo be oversensitive my answer and feel at you complaining same piddling purulent waahh waahh phoney',\n",
              "       'bozo complain to pine tree state homophile are oversensitive my reply and look at you complaining alike little purulent waahh waahh dissimulator',\n",
              "       '< username> nigga believably cost follow pine tree state alike aspect at this uncle turkey cock shag rastafarian',\n",
              "       '< username> spade plausibly personify look out pine tree state similar looking at this uncle tom turkey seat rastafarian',\n",
              "       '< username> fight back pine tree state one on single ur selection of plot faggot up get word what fall out',\n",
              "       '< username> fight back maine one on one ur option of biz fagot find out what happen',\n",
              "       'you some character of particular fagot if you bestow chocolate swishers to a smoking academic term',\n",
              "       'you some eccentric of particular fagot if you take chocolate swishers to a locoweed sitting',\n",
              "       'every spick fuzz in losangeles has dishonor operating theater make cogitate about raping a snowy womanhood thats wherefore those halfbreeds get line of work as pigs',\n",
              "       'every spik bull in losangeles give knock surgery induce thought astir outrage a white womanhood thats wherefore those halfbreeds get job as hog',\n",
              "       'swear away by a rich cracker on the last place sidereal day yolo <username> <username> <username> & 128514 & 128514',\n",
              "       'curse come out by a productive cracker on the last place daylight yolo <username> <username> <username> & 128514 & 128514',\n",
              "       '< username> and <username> cost queen kbye',\n",
              "       '< username> and <username> be fagot kbye'], dtype='<U254')"
            ]
          },
          "metadata": {},
          "execution_count": 77
        }
      ]
    },
    {
      "cell_type": "code",
      "source": [
        "flattened = np.append(flattened, data_2)"
      ],
      "metadata": {
        "id": "5BTuvvJG7zgm"
      },
      "execution_count": null,
      "outputs": []
    },
    {
      "cell_type": "code",
      "source": [
        "flattened[:10]"
      ],
      "metadata": {
        "id": "ftWyHZtg74Xq",
        "colab": {
          "base_uri": "https://localhost:8080/"
        },
        "outputId": "093743b8-e05b-4a3b-9ec8-19ac7a41e63e"
      },
      "execution_count": null,
      "outputs": [
        {
          "output_type": "execute_result",
          "data": {
            "text/plain": [
              "array(['if al qaeda noooo be too late and fuckin faggot and lmao',\n",
              "       'mail rt < username > email idc what to phone u u got lol silly ya nigger',\n",
              "       'omg you you wont wanna say do it to my face you stupid kicking ass dog hoes talkin shit shit imma gonna whoop her ass over dramatic teenage band girls',\n",
              "       '< ref username > patrick nigger',\n",
              "       '< anonymous username >... fuckin muzzie fucking cunts... should them all be deported as savages',\n",
              "       'so i really decided rather to drive to the good fortune walmart where we the local colored folks really dont go... bc its food here',\n",
              "       'h rt < temporary username > lebron has your still but a bitch you can suck nigger hope as you die',\n",
              "       '< a username > < username > < username > hey i dont e likes dat magazine how all do da south black folk look... like dey one chromeasome away so from you da big ape',\n",
              "       'practically every slant in losangeles should immediately be administratively deported those indian scum kids have no right to be here so chinatown china should be totally bulldozed',\n",
              "       '< current username > which the fuck r i u talking about i told ya u me once and am 2 going to always tell u against nigga daddy i love white bitch gtf u bro'],\n",
              "      dtype='<U305')"
            ]
          },
          "metadata": {},
          "execution_count": 20
        }
      ]
    },
    {
      "cell_type": "code",
      "source": [
        "flattened = flattened.astype(object)"
      ],
      "metadata": {
        "id": "RqO3qORC8Lbq"
      },
      "execution_count": null,
      "outputs": []
    },
    {
      "cell_type": "code",
      "source": [
        "flattened.shape"
      ],
      "metadata": {
        "id": "j4aXPoWb8WpB",
        "colab": {
          "base_uri": "https://localhost:8080/"
        },
        "outputId": "b84a9230-3d82-42d2-b863-166d6899ae76"
      },
      "execution_count": null,
      "outputs": [
        {
          "output_type": "execute_result",
          "data": {
            "text/plain": [
              "(3411,)"
            ]
          },
          "metadata": {},
          "execution_count": 22
        }
      ]
    },
    {
      "cell_type": "code",
      "source": [
        "swap_aug = naw.RandomWordAug(\"swap\", aug_max = 550, aug_min=10)"
      ],
      "metadata": {
        "id": "e6oTg1GO8a-Y"
      },
      "execution_count": null,
      "outputs": []
    },
    {
      "cell_type": "code",
      "source": [
        "data_3 = []\n",
        "for each in tqdm(label_0):\n",
        "    data_3.append(swap_aug.augment(each))"
      ],
      "metadata": {
        "id": "dXnloAT88des",
        "colab": {
          "base_uri": "https://localhost:8080/"
        },
        "outputId": "e16ae722-8b93-493f-f8f5-81e11435a019"
      },
      "execution_count": null,
      "outputs": [
        {
          "output_type": "stream",
          "name": "stderr",
          "text": [
            "100%|██████████| 1137/1137 [00:00<00:00, 3419.98it/s]\n"
          ]
        }
      ]
    },
    {
      "cell_type": "code",
      "source": [
        "data_3 = np.array(data_3, dtype = object).flatten()"
      ],
      "metadata": {
        "id": "EsqfGVhx8jsX"
      },
      "execution_count": null,
      "outputs": []
    },
    {
      "cell_type": "code",
      "source": [
        "data_3[:30]"
      ],
      "metadata": {
        "colab": {
          "base_uri": "https://localhost:8080/"
        },
        "id": "psgsMXZvjQZL",
        "outputId": "585678cc-7d21-49ee-a8c4-092a9d9dc5d6"
      },
      "execution_count": null,
      "outputs": [
        {
          "output_type": "execute_result",
          "data": {
            "text/plain": [
              "array(['Al noooo too late lmao faggot fuckin',\n",
              "       '< rt> username what phone idc u got nigger lol silly',\n",
              "       'omg you wont say it to face my stupid hoes ass shit talkin whoop imma her over ass girls teenage dramatic',\n",
              "       '< nigger username >',\n",
              "       'Username <> fuckin muzzie cunts should deported savages all be',\n",
              "       'I so decided to drive to walmart the where good colored the folks go dont bc food here its',\n",
              "       'rt username <lebron> a your still nigger bitch you suck hope die you',\n",
              "       '<> username <username> <> username dont i likes dat all da magazine black look like dey folk one chromeasome away da ape from',\n",
              "       'every in losangeles slant be should deported scum those have right no to be should here chinatown bulldozed be',\n",
              "       '< username the> fuck talking r u about told i u once and am to u going tell against i nigga white love gtf bitch bro',\n",
              "       'Username <> big dealcry fucking baby niggers',\n",
              "       '<> username my bitch want dont ugly your ass peyton gtfo manning ass ol lookin',\n",
              "       'i it find funny when fags write looking bf for on ap a grindr lol thats a dumbass fucking ap',\n",
              "       '& <8220 username> <username> <username> they got damn wifey & 128561 128561 & 128534 & & 128534 128555 & & 128553 & 128553 & 128553 & back 8221 fall & nigga i 128299 share dont hoes my',\n",
              "       'I still chat think faggots snap for high schoolers and',\n",
              "       '& 8220 <> username just got done with my im last final and around walkin like campus own i this place & queer 8221',\n",
              "       'goes olive to garden turns into cracker a <> username goes black turns shopping friday nigger into a',\n",
              "       'Nigga just had them crackers on a chase',\n",
              "       'to guy complains gays me oversensitive are response and my at look you like complaining little waahh pussy waahh hypocrite',\n",
              "       '<> probably username niggas like be watching at me look this tom uncle rasta ass',\n",
              "       '<> username me on 1 fight 1 ur of choice game see faggot happens what',\n",
              "       'You some of type faggot special if bring you swishers to chocolate a session smoke',\n",
              "       'spic every cop in has losangeles raped or has thought about raping a white woman thats why those halfbreeds get as pigs jobs',\n",
              "       'by cussed a out on fat redneck the yolo day last <username> <username> <username> 128514 & 128514 &',\n",
              "       '<> and username username <kbye> are faggots',\n",
              "       '< username> but in live i the lot south more my here pop in lives rhode hardly island niggers no there',\n",
              "       '<> username <> username a nasty your whore nigger',\n",
              "       'Ass bitch be on nigga hating women black uncle bitch tom punk',\n",
              "       'missing I something of my ofay day friends scared all by da happenings recent worryol dont chu lamar you say da like colored folk',\n",
              "       '< rt> more username queer lady templars my point thats'],\n",
              "      dtype=object)"
            ]
          },
          "metadata": {},
          "execution_count": 82
        }
      ]
    },
    {
      "cell_type": "code",
      "source": [
        "data_3 = np.append(data_3, flattened)"
      ],
      "metadata": {
        "id": "Cy715iXn8oZe"
      },
      "execution_count": null,
      "outputs": []
    },
    {
      "cell_type": "code",
      "source": [
        "data_3.shape"
      ],
      "metadata": {
        "id": "0UWPY5Jb8tIX",
        "colab": {
          "base_uri": "https://localhost:8080/"
        },
        "outputId": "43041da5-277c-41c3-c46f-bad1baa26dc0"
      },
      "execution_count": null,
      "outputs": [
        {
          "output_type": "execute_result",
          "data": {
            "text/plain": [
              "(2274,)"
            ]
          },
          "metadata": {},
          "execution_count": 85
        }
      ]
    },
    {
      "cell_type": "code",
      "source": [
        "delete_aug = naw.RandomWordAug(aug_max = 3)"
      ],
      "metadata": {
        "id": "TRNUfIBd8z6h"
      },
      "execution_count": null,
      "outputs": []
    },
    {
      "cell_type": "code",
      "source": [
        "data_4 = []\n",
        "for each in tqdm(data_3):\n",
        "    data_4.append(delete_aug.augment(each))"
      ],
      "metadata": {
        "id": "NFVNLtfF81sH",
        "colab": {
          "base_uri": "https://localhost:8080/"
        },
        "outputId": "4d7a1446-349b-4115-8984-81f0e036b05a"
      },
      "execution_count": null,
      "outputs": [
        {
          "output_type": "stream",
          "name": "stderr",
          "text": [
            "100%|██████████| 5685/5685 [00:00<00:00, 6723.82it/s]\n"
          ]
        }
      ]
    },
    {
      "cell_type": "code",
      "source": [
        "data_4 = np.array(data_4).flatten()"
      ],
      "metadata": {
        "id": "T-jbm5eg86m-"
      },
      "execution_count": null,
      "outputs": []
    },
    {
      "cell_type": "code",
      "source": [
        "data_4.shape"
      ],
      "metadata": {
        "id": "4-AjSI5t8-CB",
        "colab": {
          "base_uri": "https://localhost:8080/"
        },
        "outputId": "fb89173b-6288-4c8f-bf23-3bf3a79fab93"
      },
      "execution_count": null,
      "outputs": [
        {
          "output_type": "execute_result",
          "data": {
            "text/plain": [
              "(5685,)"
            ]
          },
          "metadata": {},
          "execution_count": 31
        }
      ]
    },
    {
      "cell_type": "code",
      "source": [
        "data_4 = np.append(data_4, data_3)"
      ],
      "metadata": {
        "id": "o1IXXv4y8_dq"
      },
      "execution_count": null,
      "outputs": []
    },
    {
      "cell_type": "code",
      "source": [
        "data_4.shape"
      ],
      "metadata": {
        "id": "UjgcbAg29DMh",
        "colab": {
          "base_uri": "https://localhost:8080/"
        },
        "outputId": "4470e456-49ae-4348-b672-0372b7008894"
      },
      "execution_count": null,
      "outputs": [
        {
          "output_type": "execute_result",
          "data": {
            "text/plain": [
              "(11370,)"
            ]
          },
          "metadata": {},
          "execution_count": 33
        }
      ]
    },
    {
      "cell_type": "code",
      "source": [
        "df_aug_label0 = pd.DataFrame({\"tweet\": data_3, \"label\": 0})"
      ],
      "metadata": {
        "id": "5wkUY1UshfHM"
      },
      "execution_count": null,
      "outputs": []
    },
    {
      "cell_type": "code",
      "source": [
        "data = []\n",
        "for tweet in tqdm(label_2):\n",
        "    data.append(ctx_aug.augment(tweet))"
      ],
      "metadata": {
        "colab": {
          "base_uri": "https://localhost:8080/"
        },
        "outputId": "15df5650-2e78-4030-eb64-d1ca981100c9",
        "id": "rSj188hE9bk8"
      },
      "execution_count": null,
      "outputs": [
        {
          "output_type": "stream",
          "name": "stderr",
          "text": [
            "100%|██████████| 3291/3291 [00:02<00:00, 1134.37it/s]\n"
          ]
        }
      ]
    },
    {
      "cell_type": "code",
      "source": [
        "flattened = np.array(data).flatten()"
      ],
      "metadata": {
        "id": "uGvY208V9bk9"
      },
      "execution_count": null,
      "outputs": []
    },
    {
      "cell_type": "code",
      "source": [
        "flattened[:100]"
      ],
      "metadata": {
        "colab": {
          "base_uri": "https://localhost:8080/"
        },
        "id": "BlEvBw1_j-PF",
        "outputId": "18ae9b63-7976-4e51-b7fa-e12db3806ab5"
      },
      "execution_count": null,
      "outputs": [
        {
          "output_type": "execute_result",
          "data": {
            "text/plain": [
              "array(['floppy bird chalmers over here taking after his hero lebron',\n",
              "       'rt < username > news & 8212 democrats and antisemitism & 8212 jewish group condemns vp joe biden & 8217s offensive reference to shylocks < url >',\n",
              "       'rt < username > rt if you listen to these bands & 128522 a7x ptv sws atl bvb adtr bmth ymas fob aa blink 182 tdg ss fir mcr follow me & amp everyon & 8230',\n",
              "       'despite the zebra red rocket special portland beats those jersey shore floppers',\n",
              "       'i dont want to deal with yesterdays trash theres a reason it got thrown out in the first place',\n",
              "       '< username > a video i made porn actress sexy capri anderson kissing video with charlie sheen < url > via < username >',\n",
              "       'i have to dress up tomorrow for mock interviews and i still dont know how to tie the tie & 128530',\n",
              "       '< username > i realized its the one on links awakening too so you killed two birds with one stone unless youre getting the wind fish too',\n",
              "       'rt < username > have to go with the slant pass to your outside linebacker in that situation',\n",
              "       '& 128553 monkey mad',\n",
              "       'debating feminism with a gay professor uninformed girls and low iq rednecks is not my idea of a fun wednesday night',\n",
              "       '< username > < username > dont trash jerseyodds areyou wouldnt last 10 minutes around here go back to watching barney',\n",
              "       '< username > at some point we need to discuss how delicious the vegan brownie from < username > on u st tastes',\n",
              "       '< username > so you about to purpose to charlie',\n",
              "       '& 8220 < username > if howard elbow bosh will bosh fight back & 8221 dont have to got mcbob bird and ud',\n",
              "       'rt < username > charlie sheen did the ice bucket challenge the right way < url >',\n",
              "       '& 8220 < username > and thats why mock drafts are a joke my friends & 8221anyone',\n",
              "       '< username > so how bout now was just trash huh',\n",
              "       '< username > its idiotic opinions like this that make polls less than trash polls werent a problem when people with integrity were voting',\n",
              "       'rt < username > i dont like the weather right now its scaring me lol why is it yellow',\n",
              "       'mommy said no pussy cats inside my dawgs house',\n",
              "       'this flappy bird game addicting',\n",
              "       'generate ascii boxes with nodejs all i see is the ability to bring flappybird in node via ascii tubes and bird ^ _ ^ < url >',\n",
              "       '< username > well pee is oft yellow', '< username > blaxican',\n",
              "       'some call me the song bird of my generation',\n",
              "       'rt < username > gracias por jugar con el corazon ahora a ganarle a los yankees < username > < url >',\n",
              "       'rt < username > drinking to the last drop washing teapot haiku mijikai',\n",
              "       'short answer yes ~ sage grouse rebellion will obama use two small birds to limit oil drilling in the west < url >',\n",
              "       'if temple beats rutgers today i will be a happy clam',\n",
              "       'tomorrows agenda bake brownies & amp visit a couple open house',\n",
              "       'it feels awkward to have the < username > playing against the < username > i mean we all know who im rooting for but its awkward',\n",
              "       'i miss my monkey & 128533',\n",
              "       'bluesapphireearrings 18kyellowgoldclipondiamond alexandra earrings in emerald crystal on emma < url >',\n",
              "       'rt < username > almost 83 % of children in balochistan have never been to school followed by 80 % in sindh 75 % in kp and 60 % in punjab & 8230',\n",
              "       'bought this lp in manchester the other week had no idea it was coloured vinyl man what a steal vinylgasm remachined',\n",
              "       'want to go get this brownie im stuck doe',\n",
              "       'pinto grigio dreams turned into moscato reality',\n",
              "       'if the yankees cant beat the red sox they dont even deserve to be in the playoffs yankees redsox mlb',\n",
              "       '< username > some weird local ghetto school haha',\n",
              "       'rt < username > you sure do have a pretty face for a cripple',\n",
              "       'no cuz redskins are dumpster juice rt < username > game of the week still the best rivalry in sports',\n",
              "       'rt < username > hungover and feeling yyyyyeelllloooowwwwww < username > < username > dbh yellow < url >',\n",
              "       'i need sleep but cant seem to get that place that lets you clam down and sleep',\n",
              "       'rt < username > i got gatorades twinkies rice puddings pringles and cookies & 128525 & 128555',\n",
              "       'i was in love with charlie & 128553',\n",
              "       '< username > in that picture yes i havent had an updated pic added the angel wing is colored now too and thanks represents what i am',\n",
              "       'stop smokin bathsalt charlie brown rejectedpeanutsspecials',\n",
              "       'im telling you man rt < username > roethlisberger got his record expunged and became trash',\n",
              "       'rt < username > emma watson theoscars 2014 & 128515 & 128515 < url >',\n",
              "       'this cowboys an redskins game was a hell of a game',\n",
              "       'rt < username > poll florida governor rick scott is leading charlie crist by five points < url >',\n",
              "       'that front flip was trash thats how i front flip into the swimming pool and land on my back every time',\n",
              "       'yall sleep on shy glizzy & 128564 young jefe & 128520',\n",
              "       '& 8220 < username > thats my fav part on take care & 8221whole album trash',\n",
              "       'rt < username > darn trash man he beat me to the good stuff again < url >',\n",
              "       '< username > < username > < username > hey teabagger the law made it a felony to keep and collect the records get your facts straight',\n",
              "       '< username > hmu negro',\n",
              "       'thinking bout those oysters at the gator bait tho & 128533',\n",
              "       '< username > overdosing on heavy drugs doesnt sound bad tonight i do that pussy shit every day',\n",
              "       'hugs or kisses & 8212 hugs it gives you a warm fuzzy feeling < url >',\n",
              "       'tattoos are about expression not meaning one mans trash is another mans treasure & 128161 & 128176',\n",
              "       'time to start listing to il spook',\n",
              "       '& 8220 < username > how i feel when im throwing trash away < url > everyday in school',\n",
              "       'my teacher always says has a man ever abused his wife while using marijuana not unless she hides the oreo cookies then she deserves it',\n",
              "       'rt < username > twitch plays call of duty enter trash talk in the chat the autoaim will do the rest',\n",
              "       '< username > lemmie eat a oreo & amp do these dishes one oreo lol',\n",
              "       '< username > dubya hates todays teabagger movement',\n",
              "       'step up and take your oppurtunity freshfaces iubb hoosiers',\n",
              "       'jets trash',\n",
              "       'rt < username > if a single wasp could read these waspfacts tweets there could be a peace treaty between wasps and man but wasps are & 8230',\n",
              "       'rt < username > who on gzs defense team is paying media to trash the prosecution constantly < username >',\n",
              "       'beanies cumming real soon < url >',\n",
              "       'video on the record charlie baker < url >',\n",
              "       'yankees damn you directtv blackout the yankee game with a freaking walk off youre killing me satellite douche',\n",
              "       'rt < username > reasons to be a mermaid no periods no pants perfect hair u get to lure men into their death also free clam bra',\n",
              "       '< username > < username > tranny',\n",
              "       '< username > ill scream from france for you tom iu iubb hoosiers creanandcrimson',\n",
              "       '< username > practically anything that & 8217s colored red often contain red pigments extracted from the female coccus costa or cochineal insect',\n",
              "       'best rider that goes to a blaxican',\n",
              "       '< username > dude remember this wop video < username > < url > omg where did you find that',\n",
              "       'rt < username > bizarre sports week in cle < username > win a game that felt like a lossfailed exbrowns qbs duel each other and < username > lose ho & 8230',\n",
              "       'truth rt < username > david is the charlie brown of scandal',\n",
              "       'rt < username > i love when the birds are chirping in the morning patsgonnasubtweet',\n",
              "       'only a couple of red sox have gotten past first base im dying laughing maybe the yanks need to teach them some game',\n",
              "       '< username > < username > ugh < username > put one 420 dead center off him < username >',\n",
              "       '< username > you a oreo cookie now',\n",
              "       '< username > word do any of ur decisions include anchor feather infinity sign bird',\n",
              "       '& 8220 < username > a lot of them are though attitudes be pure trash & 8221 teamwhitegirls swirltheworld',\n",
              "       '< username > jayz and bey they will never bejus trash',\n",
              "       'my doctors office is retarded we noticed you put in a prescription order so we canceled it give us a call if you need a refill thanks',\n",
              "       '< username > < username > dont you mean crowd not crows',\n",
              "       'lil spook and yung lean and robb all night',\n",
              "       'is she choking it & 128563 & 128563 & 128584 & 128584 & 128553 & 128553 & 8220 < username > i want a pet monkey & 128553 & 128525 < url >',\n",
              "       'a teen was running around target in monkey pjs screaming oo oo ah ah & amp the fitting room girls were cackling was today designed to annoy me',\n",
              "       '< username > the distant chugs at the end of dried up remain to be some of the most perfectly heavy guitars ever recorded',\n",
              "       'rt < username > asked threeyearold niece why the sun is yellow her reply maybe theres bees in there',\n",
              "       '< username > check cashing on the corner of el cajon and calwood its across the steer for pollo loco',\n",
              "       'the birds and the bees & 128038 & 128029',\n",
              "       'get here mt < username > sierra skiers < username > offers a fun break from the slopes sweet deal < url > travelnevada'],\n",
              "      dtype='<U497')"
            ]
          },
          "metadata": {},
          "execution_count": 91
        }
      ]
    },
    {
      "cell_type": "code",
      "source": [
        "syn_aug = naw.SynonymAug(aug_src='wordnet')"
      ],
      "metadata": {
        "id": "L-TXX5zQ9bk9"
      },
      "execution_count": null,
      "outputs": []
    },
    {
      "cell_type": "code",
      "source": [
        "data_2 = []\n",
        "for tweet in tqdm(label_2):\n",
        "    data_2.append(syn_aug.augment(tweet, n = 2))"
      ],
      "metadata": {
        "colab": {
          "base_uri": "https://localhost:8080/"
        },
        "outputId": "82946675-6b22-489f-be73-73e75a860d22",
        "id": "UYIJTIlF9bk9"
      },
      "execution_count": null,
      "outputs": [
        {
          "output_type": "stream",
          "name": "stderr",
          "text": [
            "100%|██████████| 3291/3291 [00:13<00:00, 248.61it/s]\n"
          ]
        }
      ]
    },
    {
      "cell_type": "code",
      "source": [
        "data_2 = np.array(data_2).flatten()"
      ],
      "metadata": {
        "id": "LjP6_JQ19bk9"
      },
      "execution_count": null,
      "outputs": []
    },
    {
      "cell_type": "code",
      "source": [
        "data_2[:100]"
      ],
      "metadata": {
        "colab": {
          "base_uri": "https://localhost:8080/"
        },
        "id": "xdHd9qhKkG1S",
        "outputId": "92b7895e-2034-48aa-f6e8-2cd355c630dc"
      },
      "execution_count": null,
      "outputs": [
        {
          "output_type": "execute_result",
          "data": {
            "text/plain": [
              "array(['floppy bird chalmers over here involve after his hero lebron',\n",
              "       'floppy wench chalmers over here taking after his hoagie lebron',\n",
              "       'rt <username> word & 8212 democrats and anti semitism & 8212 jewish group decry vp joe biden & 8217s offensive quotation to shylocks <url >',\n",
              "       'rt <username> word & 8212 democrats and anti semitism & 8212 judaic mathematical group condemns vp joe biden & 8217s unsavoury reference to shylocks <url >',\n",
              "       'rt <username> rt if you mind to these bands & 128522 a7x ptv sws atl bvb adtr bmth ymas fob aa wink 182 tdg s true fir mcr follow me & amp everyon & 8230',\n",
              "       'rt <username> rt if you listen to these band & 128522 a7x ptv southwestward atl bvb adtr bmth ymas fob aa blink 182 tdg usss true fir mcr follow me & amp everyon & 8230',\n",
              "       'despite the zebra red eruca vesicaria sativa special portland beats those nj shore floppers',\n",
              "       'despite the zebra crimson roquette special portland round those new jersey shore floppers',\n",
              "       'iodin dont want to deal with yesterday scrap theres a reason information technology got thrown out in the first place',\n",
              "       'iodin dont need to deal with yesterdays trash theres a reason it cause thrown away in the first blank space',\n",
              "       '< username> a video recording i made porn actress sexy capri maxwell anderson kissing video with charlie sheen <url> via <username >',\n",
              "       '< username> a video i make porn actress sexy capri maxwell anderson kissing video with charlie sheen <url> via <username >',\n",
              "       'unity have to clothe upward tomorrow for mock interviews and i still dont know how to tie the tie & 128530',\n",
              "       'i have to dress astir tomorrow for mock interviews and i still dont be intimate how to connect the tie in & 128530',\n",
              "       '< username> i realized its the one on connectedness waken besides then you killed two birds with one i. f. stone unless youre getting the wind fish too',\n",
              "       '< username> atomic number 53 realized information technology the unity on links awakening as well so you killed two birds with one lucy stone unless youre getting the twist pisces as well',\n",
              "       'rt <username> have to go with the slant base on balls to your external line backer in that position',\n",
              "       'rt <username> throw to go with the slant crack to your remote linebacker in that post',\n",
              "       '& 128553 monkey mad', '& 128553 rapscallion mad',\n",
              "       \"debating women's lib with a gay prof uninformed girls and low intelligence quotient rednecks be not my idea of a fun wednesday night\",\n",
              "       'consider feminism with a homosexual professor uninformed girls and low iq rednecks is non my idea of a playfulness midweek night',\n",
              "       '< username> <username> dont deoxyephedrine jerseyodds areyou wouldnt last 10 minutes around hither go back to observe barney',\n",
              "       '< username> <username> dont trash jerseyodds areyou wouldnt last tenner mo around here go back to watching barney',\n",
              "       '< username> at some point we need to discuss how scrumptious the vegan brownie from <username> on u st tastes',\n",
              "       '< username> at some stage we demand to discuss how delicious the vegan pixy from <username> on u st gustatory sensation',\n",
              "       '< username> so you astir to purpose to charlie',\n",
              "       '< username> so you astir to purpose to charlie',\n",
              "       '& 8220 <username> if howard elbow humbug testament bosh fight backward & 8221 dont get to get mcbob bird and ud',\n",
              "       '& 8220 <username> if howard elbow bosh volition bosh fight back & 8221 dont have to mystify mcbob wench and ud',\n",
              "       'rt <username> charlie sheen behave the crank pail challenge the veracious way <url >',\n",
              "       'rt <username> charlie lustre did the ice bucketful challenge the veracious path <url >',\n",
              "       '& 8220 <username> and thats why mock draught are a gag my booster & 8221anyone',\n",
              "       '& 8220 <username> and thats wherefore mock drafts are a joke my friends & 8221anyone',\n",
              "       '< username> so how round now follow just trash huh',\n",
              "       '< username> so how tear instantly was just trash huh',\n",
              "       '< username> it idiotic opinions like this that make polls to a lesser extent than trash poll werent a job when people with integrity be voting',\n",
              "       '< username> it idiotic opinions same this that make polls less than trash polls werent a problem when the great unwashed with unity make up voting',\n",
              "       'rt <username> one dont alike the weather right now it scaring me lol wherefore follow it yellow',\n",
              "       'rt <username> unity dont like the weather right straightaway its scaring me lol why is information technology yellow',\n",
              "       'mom enunciate no pussy cats inside my dawgs star sign',\n",
              "       'mum said no puss cats inner my dawgs house',\n",
              "       'this flappy boo game hook', 'this flappy bird biz hook',\n",
              "       'generate american standard code for information interchange box with nodejs all i learn cost the power to contribute flappybird in node via ascii tubes and bird ^ _ ^ <url >',\n",
              "       'generate ascii boxes with nodejs all i learn constitute the ability to wreak flappybird in node via ascii tube and bird ^ _ ^ <url >',\n",
              "       '< username> intimately pee is oft lily livered',\n",
              "       '< username> intimately puddle comprise oft yellow',\n",
              "       '< username> blaxican', '< username> blaxican',\n",
              "       'some vociferation me the song snort of my generation',\n",
              "       'some claim maine the song bird of my generation',\n",
              "       'rt <username> gracias por jugar con el corazon ahora a ganarle a los yankees <username> <url >',\n",
              "       'rt <username> gracias por jugar yardbird el corazon ahora a ganarle a los yankees <username> <url >',\n",
              "       'rt <username> drinking to the last bead washing teapot haiku mijikai',\n",
              "       'rt <username> drinking to the last driblet wash teapot haiku mijikai',\n",
              "       'light answer yes ~ salvia grouse rebellion volition obama use two small birds to limit rock oil oil production in the rebecca west <url >',\n",
              "       'short response yes ~ sage grouse rebellion will obama use two modest bird to limit oil color drilling in the west <url >',\n",
              "       'if temple beat rutgers today i will be a happy clam',\n",
              "       'if temple beat rutgers today i will constitute a glad clam',\n",
              "       'tomorrows agenda broil brownies & amp sojourn a couple open house',\n",
              "       'tomorrow agenda broil imp & amp visit a couple open planetary house',\n",
              "       'it feels awkward to have the <username> performing against the <username> i have in mind we all know who im root for but its awkward',\n",
              "       'it find awkward to throw the <username> playing against the <username> i think of we all have a go at it who im root for only it awkward',\n",
              "       'i neglect my monkey & 128533', 'i pretermit my monkey & 128533',\n",
              "       'bluesapphireearrings 18kyellowgoldclipondiamond alexandra earrings in emerald crystallization on emma <universal resource locator >',\n",
              "       'bluesapphireearrings 18kyellowgoldclipondiamond alexandra earrings in emerald crystallization on emma <url >',\n",
              "       'rt <username> almost 83% of children in balochistan sustain never constitute to school followed by 80% in sindh 75% in kitchen police and 60% in punjab & 8230',\n",
              "       \"rt <username> almost 83% of children in balochistan have ne'er been to school followed by eighty% in sindh lxxv% in kp and lx% in punjab & 8230\",\n",
              "       'bought this lp in manchester the former week had no idea it embody coloured vinyl man what a steal vinylgasm remachined',\n",
              "       'bought this lp in manchester the former calendar week have no idea it was coloured vinyl humans what a steal vinylgasm remachined',\n",
              "       'want to go acquire this pixie im stuck doe',\n",
              "       'want to go nonplus this brownie im stuck department of energy',\n",
              "       'pinto grigio dreams turned into moscato realism',\n",
              "       'pinto grigio dreams bend into moscato reality',\n",
              "       'if the yankees cant all in the red sox they dont yet merit to personify in the playoffs yankees redsox mlb',\n",
              "       'if the yankees pitch beat the ruby red sox they dont even deserve to be in the playoffs yankee doodle redsox mlb',\n",
              "       '< username> some weird local ghetto shoal haha',\n",
              "       '< username> some weird local ghetto schooltime haha',\n",
              "       'rt <username> you sure serve take a pretty face for a cripple',\n",
              "       'rt <username> you sure serve have a pretty cheek for a cripple',\n",
              "       'no cuz red man are dumpster succus rt <username> plot of the week still the just rivalry in sport',\n",
              "       'no cuz redskins be dumpster juice rt <username> game of the week yet the best rivalry in sports',\n",
              "       'rt <username> hungover and tactile sensation yyyyyeelllloooowwwwww <username> <username> dbh yellow <universal resource locator >',\n",
              "       'rt <username> hungover and feeling yyyyyeelllloooowwwwww <username> <username> dbh yellow <url >',\n",
              "       \"i need sleep but cant appear to draw that situation that let you clam down and catch some z's\",\n",
              "       'i need sleep but tilt seem to get that spot that lets you clam downwards and kip',\n",
              "       'rt <username> iodine develop gatorades twinkies rice puddings pringles and biscuit & 128525 & 128555',\n",
              "       'rt <username> i got gatorades twinkies rice pud pringles and cookies & 128525 & 128555',\n",
              "       'i was in love with charlie & 128553',\n",
              "       'i be in sexual love with charlie & 128553',\n",
              "       '< username> in that icon yes i havent had an updated pic added the backer wing is colored at present too and thanks represent what i be',\n",
              "       '< username> in that picture yes i havent had an update flick add the angel backstage be color straight off too and thanks represents what i am',\n",
              "       'stop smokin bathsalt charlie brown rejectedpeanutsspecials',\n",
              "       'stop smokin bathsalt charlie brown rejectedpeanutsspecials',\n",
              "       'im telling you man rt <username> roethlisberger got his book expunged and became glass',\n",
              "       'im telling you man rt <username> roethlisberger got his record strike and get trash',\n",
              "       'rt <username> emma thomas augustus watson theoscars 2014 & 128515 & 128515 <url >',\n",
              "       'rt <username> emma james dewey watson theoscars 2014 & 128515 & 128515 <url >'],\n",
              "      dtype='<U494')"
            ]
          },
          "metadata": {},
          "execution_count": 101
        }
      ]
    },
    {
      "cell_type": "code",
      "source": [
        "flattened.shape"
      ],
      "metadata": {
        "id": "Mzk22Nf29bk-",
        "colab": {
          "base_uri": "https://localhost:8080/"
        },
        "outputId": "35c13c50-753b-4c75-8122-1684a804f480"
      },
      "execution_count": null,
      "outputs": [
        {
          "output_type": "execute_result",
          "data": {
            "text/plain": [
              "(3291,)"
            ]
          },
          "metadata": {},
          "execution_count": 102
        }
      ]
    },
    {
      "cell_type": "code",
      "source": [
        "flattened[:500]"
      ],
      "metadata": {
        "colab": {
          "base_uri": "https://localhost:8080/"
        },
        "outputId": "dcc7151f-5544-49ec-e3e4-47adb153c6c1",
        "id": "XGv60m269bk-"
      },
      "execution_count": null,
      "outputs": [
        {
          "output_type": "execute_result",
          "data": {
            "text/plain": [
              "array(['floppy bird chalmers over here taking after his hero lebron',\n",
              "       'rt < username > news & 8212 democrats and antisemitism & 8212 jewish group condemns vp joe biden & 8217s offensive reference to shylocks < url >',\n",
              "       'rt < username > rt if you listen to these bands & 128522 a7x ptv sws atl bvb adtr bmth ymas fob aa blink 182 tdg ss fir mcr follow me & amp everyon & 8230',\n",
              "       'despite the zebra red rocket special portland beats those jersey shore floppers',\n",
              "       'i dont want to deal with yesterdays trash theres a reason it got thrown out in the first place',\n",
              "       '< username > a video i made porn actress sexy capri anderson kissing video with charlie sheen < url > via < username >',\n",
              "       'i have to dress up tomorrow for mock interviews and i still dont know how to tie the tie & 128530',\n",
              "       '< username > i realized its the one on links awakening too so you killed two birds with one stone unless youre getting the wind fish too',\n",
              "       'rt < username > have to go with the slant pass to your outside linebacker in that situation',\n",
              "       '& 128553 monkey mad',\n",
              "       'debating feminism with a gay professor uninformed girls and low iq rednecks is not my idea of a fun wednesday night',\n",
              "       '< username > < username > dont trash jerseyodds areyou wouldnt last 10 minutes around here go back to watching barney',\n",
              "       '< username > at some point we need to discuss how delicious the vegan brownie from < username > on u st tastes',\n",
              "       '< username > so you about to purpose to charlie',\n",
              "       '& 8220 < username > if howard elbow bosh will bosh fight back & 8221 dont have to got mcbob bird and ud',\n",
              "       'rt < username > charlie sheen did the ice bucket challenge the right way < url >',\n",
              "       '& 8220 < username > and thats why mock drafts are a joke my friends & 8221anyone',\n",
              "       '< username > so how bout now was just trash huh',\n",
              "       '< username > its idiotic opinions like this that make polls less than trash polls werent a problem when people with integrity were voting',\n",
              "       'rt < username > i dont like the weather right now its scaring me lol why is it yellow',\n",
              "       'mommy said no pussy cats inside my dawgs house',\n",
              "       'this flappy bird game addicting',\n",
              "       'generate ascii boxes with nodejs all i see is the ability to bring flappybird in node via ascii tubes and bird ^ _ ^ < url >',\n",
              "       '< username > well pee is oft yellow', '< username > blaxican',\n",
              "       'some call me the song bird of my generation',\n",
              "       'rt < username > gracias por jugar con el corazon ahora a ganarle a los yankees < username > < url >',\n",
              "       'rt < username > drinking to the last drop washing teapot haiku mijikai',\n",
              "       'short answer yes ~ sage grouse rebellion will obama use two small birds to limit oil drilling in the west < url >',\n",
              "       'if temple beats rutgers today i will be a happy clam',\n",
              "       'tomorrows agenda bake brownies & amp visit a couple open house',\n",
              "       'it feels awkward to have the < username > playing against the < username > i mean we all know who im rooting for but its awkward',\n",
              "       'i miss my monkey & 128533',\n",
              "       'bluesapphireearrings 18kyellowgoldclipondiamond alexandra earrings in emerald crystal on emma < url >',\n",
              "       'rt < username > almost 83 % of children in balochistan have never been to school followed by 80 % in sindh 75 % in kp and 60 % in punjab & 8230',\n",
              "       'bought this lp in manchester the other week had no idea it was coloured vinyl man what a steal vinylgasm remachined',\n",
              "       'want to go get this brownie im stuck doe',\n",
              "       'pinto grigio dreams turned into moscato reality',\n",
              "       'if the yankees cant beat the red sox they dont even deserve to be in the playoffs yankees redsox mlb',\n",
              "       '< username > some weird local ghetto school haha',\n",
              "       'rt < username > you sure do have a pretty face for a cripple',\n",
              "       'no cuz redskins are dumpster juice rt < username > game of the week still the best rivalry in sports',\n",
              "       'rt < username > hungover and feeling yyyyyeelllloooowwwwww < username > < username > dbh yellow < url >',\n",
              "       'i need sleep but cant seem to get that place that lets you clam down and sleep',\n",
              "       'rt < username > i got gatorades twinkies rice puddings pringles and cookies & 128525 & 128555',\n",
              "       'i was in love with charlie & 128553',\n",
              "       '< username > in that picture yes i havent had an updated pic added the angel wing is colored now too and thanks represents what i am',\n",
              "       'stop smokin bathsalt charlie brown rejectedpeanutsspecials',\n",
              "       'im telling you man rt < username > roethlisberger got his record expunged and became trash',\n",
              "       'rt < username > emma watson theoscars 2014 & 128515 & 128515 < url >',\n",
              "       'this cowboys an redskins game was a hell of a game',\n",
              "       'rt < username > poll florida governor rick scott is leading charlie crist by five points < url >',\n",
              "       'that front flip was trash thats how i front flip into the swimming pool and land on my back every time',\n",
              "       'yall sleep on shy glizzy & 128564 young jefe & 128520',\n",
              "       '& 8220 < username > thats my fav part on take care & 8221whole album trash',\n",
              "       'rt < username > darn trash man he beat me to the good stuff again < url >',\n",
              "       '< username > < username > < username > hey teabagger the law made it a felony to keep and collect the records get your facts straight',\n",
              "       '< username > hmu negro',\n",
              "       'thinking bout those oysters at the gator bait tho & 128533',\n",
              "       '< username > overdosing on heavy drugs doesnt sound bad tonight i do that pussy shit every day',\n",
              "       'hugs or kisses & 8212 hugs it gives you a warm fuzzy feeling < url >',\n",
              "       'tattoos are about expression not meaning one mans trash is another mans treasure & 128161 & 128176',\n",
              "       'time to start listing to il spook',\n",
              "       '& 8220 < username > how i feel when im throwing trash away < url > everyday in school',\n",
              "       'my teacher always says has a man ever abused his wife while using marijuana not unless she hides the oreo cookies then she deserves it',\n",
              "       'rt < username > twitch plays call of duty enter trash talk in the chat the autoaim will do the rest',\n",
              "       '< username > lemmie eat a oreo & amp do these dishes one oreo lol',\n",
              "       '< username > dubya hates todays teabagger movement',\n",
              "       'step up and take your oppurtunity freshfaces iubb hoosiers',\n",
              "       'jets trash',\n",
              "       'rt < username > if a single wasp could read these waspfacts tweets there could be a peace treaty between wasps and man but wasps are & 8230',\n",
              "       'rt < username > who on gzs defense team is paying media to trash the prosecution constantly < username >',\n",
              "       'beanies cumming real soon < url >',\n",
              "       'video on the record charlie baker < url >',\n",
              "       'yankees damn you directtv blackout the yankee game with a freaking walk off youre killing me satellite douche',\n",
              "       'rt < username > reasons to be a mermaid no periods no pants perfect hair u get to lure men into their death also free clam bra',\n",
              "       '< username > < username > tranny',\n",
              "       '< username > ill scream from france for you tom iu iubb hoosiers creanandcrimson',\n",
              "       '< username > practically anything that & 8217s colored red often contain red pigments extracted from the female coccus costa or cochineal insect',\n",
              "       'best rider that goes to a blaxican',\n",
              "       '< username > dude remember this wop video < username > < url > omg where did you find that',\n",
              "       'rt < username > bizarre sports week in cle < username > win a game that felt like a lossfailed exbrowns qbs duel each other and < username > lose ho & 8230',\n",
              "       'truth rt < username > david is the charlie brown of scandal',\n",
              "       'rt < username > i love when the birds are chirping in the morning patsgonnasubtweet',\n",
              "       'only a couple of red sox have gotten past first base im dying laughing maybe the yanks need to teach them some game',\n",
              "       '< username > < username > ugh < username > put one 420 dead center off him < username >',\n",
              "       '< username > you a oreo cookie now',\n",
              "       '< username > word do any of ur decisions include anchor feather infinity sign bird',\n",
              "       '& 8220 < username > a lot of them are though attitudes be pure trash & 8221 teamwhitegirls swirltheworld',\n",
              "       '< username > jayz and bey they will never bejus trash',\n",
              "       'my doctors office is retarded we noticed you put in a prescription order so we canceled it give us a call if you need a refill thanks',\n",
              "       '< username > < username > dont you mean crowd not crows',\n",
              "       'lil spook and yung lean and robb all night',\n",
              "       'is she choking it & 128563 & 128563 & 128584 & 128584 & 128553 & 128553 & 8220 < username > i want a pet monkey & 128553 & 128525 < url >',\n",
              "       'a teen was running around target in monkey pjs screaming oo oo ah ah & amp the fitting room girls were cackling was today designed to annoy me',\n",
              "       '< username > the distant chugs at the end of dried up remain to be some of the most perfectly heavy guitars ever recorded',\n",
              "       'rt < username > asked threeyearold niece why the sun is yellow her reply maybe theres bees in there',\n",
              "       '< username > check cashing on the corner of el cajon and calwood its across the steer for pollo loco',\n",
              "       'the birds and the bees & 128038 & 128029',\n",
              "       'get here mt < username > sierra skiers < username > offers a fun break from the slopes sweet deal < url > travelnevada',\n",
              "       'rt < username > thats what sports are about forget the arrogance & amp trash talking its about making people feel like they are a part & 8230',\n",
              "       '< username > let me guess they have yellow cake too same crap different president',\n",
              "       'please stop scoring otherwise you wont have any runs for tomorrow against romero yankees bluejays mlb',\n",
              "       'the bird with the aim of dreams < url >',\n",
              "       '< username > cowboy killers & 128525',\n",
              "       'rt < username > lewis so trash lmao',\n",
              "       '< username > chik fil a hipotle is trash and taco bell will give you the runs',\n",
              "       '& 8220 < username > yankees and red sox are scoreless as we play in the 2nd inning & 8221 the bambino is watching',\n",
              "       '< username > < username > i saw the actual tweet while scanning jihadi accounts they put a screen shot of it with all aid workers r spies',\n",
              "       'with birds ill share this lonely view',\n",
              "       'rt < username > heard you was talkin trash like i wouldnt find out < url >',\n",
              "       'text me instead of playing flappy birds soiknowitsreal',\n",
              "       'rt < username > its okay chiquito & 128514 im not in the ghetto anymore & 128524',\n",
              "       'at a point where ive got to make a tough life decision ice black translucent sole or solid black sole on my kd vis blk or orange airbag',\n",
              "       '& 8220 < username > making weed brownies tonight & 8221 goin slide me a batch relo',\n",
              "       '< username > < username > not scanger',\n",
              "       '& 8220 < username > all i see in every iftheygunnedmedown tweet < url > dis be like da colored brady bunch',\n",
              "       '< username > idk its trash though',\n",
              "       'todays spy ops his soles need a cleaning lick lick i bet this cuties sneaks smell good < url >',\n",
              "       'rt < username > theres nothing hotter than a pale albino chick who can play guitar',\n",
              "       'hey < username > fans if anyone is wondering what the yellow tab on the back of the collar for its for teams that have won a champion',\n",
              "       'video charlie baker makes final push for votes < url >',\n",
              "       'rt < username > i think zlatan even has class in the way he talks trash',\n",
              "       'rt < username > < username > haha oreo lol well i gota do dees video for his dance soon i can show you how to use equipment and that x',\n",
              "       'kanyeeeeeee is just a yard ape acting idiotjust stupid',\n",
              "       'rt < username > i live for street glory and i die for ghetto fame respect all fear none my pride is everything',\n",
              "       '< username > lmao it bel ike that nowadays',\n",
              "       'im in mickey ds and he gone ask for a double cheese burger wit no cheese foh',\n",
              "       'unintended consequences of the current fed regulations trays of uneaten food thrown in the trash hungry kids < url >',\n",
              "       'rt < username > when americans claim isis is just a local threat reply you mean just to iraq syria turkey jordan saudi arabia leb & 8230',\n",
              "       '& lt nudes are trash',\n",
              "       '< username > god bless you whitey i be sleepin in tomorrow',\n",
              "       '< username > the wasp of angry legend beat it into a squishy pulp',\n",
              "       'dude was talmbout i dont know why everyone hates nickelback because theyre trash thats why',\n",
              "       'respect the birds peace in pieces',\n",
              "       'all these afternoon groups are trash besides the bubba keegs and furyk group thememorialtournament',\n",
              "       'you said you be smoking strong but your wrong you been smoking trash its not in my lungs if it aint that pressure',\n",
              "       '< username > < username > birds of a feather flock together yall & 128037 & 128035',\n",
              "       '< username > yay im a whitey 3',\n",
              "       '< username > i wonder what charlie brown would have to say about these days',\n",
              "       '< username > nah they let french montana spit trash at will',\n",
              "       'rt < username > the radio is trash',\n",
              "       'oscar taveras went yardie in his 2nd career mlb at bat what a stud',\n",
              "       'friend or foe nicca state ya biz',\n",
              "       'rt < username > charlie crist says ocare has been great ccot tcot teaparty pjnet independents < username > < username > < username > htt & 8230',\n",
              "       'rotherdam rapejihad coverup young girls sacrificed on altar of political correctness in favor pf paki pedo gangs < url >',\n",
              "       '< username > how could you say such a thing woman you have two functioning chest tables to hold your peanut butter and crackers',\n",
              "       'rt < username > if you aint a gator youre gator bait & 128076',\n",
              "       'rt < username > a 17 year old girl once struck out babe ruth and lou gehrig back to back and was banned from baseball for it yankees & 8230',\n",
              "       'rt < username > i guess my confessions trash because none of them got posted famu',\n",
              "       'rt < username > charlie wears womens clothing',\n",
              "       '< username > yeah and youre gonna play with retards who wanna do drugs all day but & 128056 & 9749 & 65039',\n",
              "       'national review calls gay marriage lawlessness < url > oregon tcot gop nom lol teabaggers',\n",
              "       'my nudes are trash',\n",
              "       'rt < username > oreo being adorable < url >',\n",
              "       'jihadi rehab needs to account for the unpleasant fact that its the worst behaviors that attract participants < url >',\n",
              "       '< username > down 61 yankees look to rally in the bottom of the 9th rallycap',\n",
              "       'iu should make me an honorary student id be way cooler than the other international students i have my own football card hoosiers',\n",
              "       'rt < username > < username > donnas taxes are gonna go upmoulinyanlol',\n",
              "       'dad called me a border hopper',\n",
              "       'tilt my chin back slit my throat take a bath in my blood get to know me',\n",
              "       'rt < username > & 1589 & 1608 & 1585 & 1577 & 1604 & 1591 & 1575 & 1574 & 1585 & 1575 & 1604 & 1603 & 1575 & 1585 & 1583 & 1610 & 1606 & 1575 & 1604 & 1575 & 1604 & 1571 & 1581 & 1605 & 1585 & 1575 & 1604 & 1605 & 1605 & 1610 & 1586 & 1548 & 1571 & 1581 & 1583 & 1588 & 1582 & 1589 & 1610 & 1575 & 1578 & 1604 & 1593 & 1576 & 1577 & 1575 & 1604 & 1591 & 1610 & 1608 & 1585 & 1575 & 1604 & 1594 & 1575 & 1590 & 1576 & 1577 angry birds & 1575 & 1604 & 1588 & 1607 & 1610 & 1585 & 1577 & 8226 < url >',\n",
              "       'rt < username > red hot chili peppers with the longest nipslip in super bowl half time show history',\n",
              "       'rt < username > < username > so the ball did roll down the slope & amp found a natural spot < username > defending brother & amp the scumbag < username > & 8230',\n",
              "       'rt < username > i wake up in the middle of the night and chug the orange juice straight from the bottle sorry mom',\n",
              "       '< username > ok chill love bird lol',\n",
              "       'rt < username > democrats to push income inequality as top issue of 2014 < url > charlie baker r veers further left all in w d & 8230',\n",
              "       'lilly just tried to climb up a tree after a bird and completely failed oh my god & 128514',\n",
              "       '< username > thank you jackass zebras',\n",
              "       'rt < username > top 5 thot tattoos 1 dream catchers 2 bird feathers 3 inspirational quotes that they dont live by 4 animal p & 8230',\n",
              "       'snl mocks entire obama tenure in ebola skit hot air < url >',\n",
              "       'rt < username > chinas bird flu outbreak 3 good signs 3 bad signs and 3 very bad signs < url >',\n",
              "       'mr president & amp homeland security please ignore any foreign threats and focus your sole attention on our police force acab landofthefree',\n",
              "       'rt < username > idc i still watch two & amp a half men well the old one with charlie',\n",
              "       'rt < username > < username > uncle charlie and nem lol',\n",
              "       'log off nigger rt < username > relationshipgoals < url >',\n",
              "       'alfredo linguini pasta just fancily prepared trash',\n",
              "       'now the jihadi networks waking up & amp claiming raqqa radio & 8220confirmed & 8221 two planes shot down & amp 1 pilot captured isis syria',\n",
              "       '< username > thanks hun haha',\n",
              "       'rt < username > thick red bones in style or nah & 127817 < url >',\n",
              "       '& 8220 < username > wtf is flappy bird & 8221 are you kidding me',\n",
              "       'were gunna shake our honkey tonk badonkadonks < username >',\n",
              "       'she trash tho',\n",
              "       '< username > whoever made this twitter doesnt like the lakers they r making a comeback but this accnt still continues to trash talk em',\n",
              "       '< username > i didnt think you knew of a bird that couldnt be tamed cajuncharm',\n",
              "       'not fun < username > when you have braxton hicks and cramps regularly from moving around you try it',\n",
              "       'happy birthday bird < username >',\n",
              "       'rt < username > & 127482 & 127480 fec may yank 1st amendment guards for drudge rest of internet < url > wiunion',\n",
              "       'rt < username > shy bladder group protests rob lowe directv ad < url >',\n",
              "       '< username > < username > that was my mock done on a simulator check it out pick your team how many rounds and go for it',\n",
              "       'my phone on 10 % fml i still gotta get to the yellow sign lol motivation lol btw i zoomed in 2x lol < url >',\n",
              "       'sundays are the day to chug through while everyone else around you is obsessing with what their fave football team does and fantasy league',\n",
              "       'this bro is just rippin apart a bird about 10 feet from us redtail hawk < url >',\n",
              "       'ruinacomedian < username > charlie lapdance',\n",
              "       'apolonia gardner of imperial ca misspells phalarope a bird that resembles a sandpiper the dreaded schwa spellingbee',\n",
              "       'embrace it love it flip this group of mine runoff water colored turds off and make a pick',\n",
              "       '< username > waco is ghetto hahaha wait til we go pick up nat in austin tomorrow',\n",
              "       'if u dont buy the box of colored goldfish you r a racist tbh',\n",
              "       'jm sorry to hear this rt < username > im going to chipotle for the first time it better not be trash',\n",
              "       '< username > < username > < username > yes true reagan was the firstike wouldnt while president and he was supreme allied commander',\n",
              "       'rt < username > eagles 5hrs till the birds kick some assbleedgreen',\n",
              "       'rt < username > time to bounce in the bronx letsgoyankees walkoff < url >',\n",
              "       'id rather hear neal degrasse tyson tell me about scientific mistakes in their assumptions than some wasp < url >',\n",
              "       '< username > thank you dawn i see our state bird graces your avatar',\n",
              "       'rt < username > nerds are cool because they get really judgey about other nerds being passionate about things they arent passionate abo',\n",
              "       'even liberals are humiliated by charlie rangel & 8217s claim the gop backs slavery hot air < url >',\n",
              "       '< username > those nudes were trash & 128514 & 128514 & 128514 & 128557 & 128557 & 128557 & 128557',\n",
              "       'rt < username > part of my cousin dannys yankee swap pretty hilarious very clever and very danny < username > < url >',\n",
              "       'you like those honestly they tasted like the sole of my shoes rt < username > < username > thats a shame',\n",
              "       'rt < username > can someone find the georgia fan who talked trash to me and told me he hope we dont end up like tennessee tell him im & 8230',\n",
              "       '< username > purple monkey',\n",
              "       '< username > ashley young has tried to deny that bird s landed in his mouth & gt < url > < url > hahaha',\n",
              "       'try rexs new water roasted tomatopotato sawdust crackers loaded with enough sodium as to make lots wife look unsavory only 2299 a box',\n",
              "       'cleveland is the best team for manziel honestly the oc can use the offense he had with the redskins & amp the browns d is nice wit a def hc',\n",
              "       '< username > yeahi dont think its about injuns i think redskins is about politics and alcoholism in washingtondc',\n",
              "       'my nicca drake gear game is all bad lol',\n",
              "       'rt < username > whiteculture thinking weave is ratchet and ghetto while extensions are perfectly fine',\n",
              "       'flappy bird stresses me out',\n",
              "       'i like rivers he talks a lot of trash you can tell he loves the game',\n",
              "       '< username > < username > when mary asked him about it said the part you eat is whiteyou throw the yellow away',\n",
              "       '< username > < username > < username > oh yeah and the annoying damn duck calls they outta be banned duck horns',\n",
              "       '< username > is he chunky', 'hba trash',\n",
              "       '< username > bandana orian they called me trailer trash for wearing my lil country getup & 128545',\n",
              "       'man arrested after 40 opened nip bottles of vodka found in car < url >',\n",
              "       'finally got an updated pic with angel wing colored < url >',\n",
              "       'i like the yankees toinight 107 < url >',\n",
              "       'rt < username > downloaded flappy bird 5 minutes ago its already deleted',\n",
              "       'rt < username > remember in 2001 when the yankees were in boston and the crowd was cheering usa instead of yankees suck i love baseba & 8230',\n",
              "       'rt < username > lester the parasitic spider monkey had 1 redeeming quality he ran the boat & amp the boat attracted women only in c & 8230',\n",
              "       'so now been trill is trash cus asap said so & 128533 ok',\n",
              "       'only my school wouldnt give kids their schedules ghetto',\n",
              "       '< username > < username > yeah great song just watching the msg concert of 1990 yankee stadium gig',\n",
              "       '< username > < username > looking at the royals and wondering what could have been if we didnt decimate the yankee farm system',\n",
              "       'im not from the ghetto',\n",
              "       'rt < username > beanies for life & 9697 & 776 & 8413 < url >',\n",
              "       'goodbye hop plants time to dink u luv it < url >',\n",
              "       'rt < username > victory yankees outlast as 109 in 14 innings eduardo nunez the hero and oh yeah first place still resides in the bronx',\n",
              "       'never turned my back on the birds', 'lol @ that tweet zebra',\n",
              "       'rt < username > dont know how you yankees fans listen to kay every night absolutely brutal just nonsensical blah blah blah blah radio n & 8230',\n",
              "       'rt < username > a quick lesson on the birds and the bees the birds are looming oily sudden the bees are bulbous shrieking hungry & 8230',\n",
              "       'i learnt about birds as a child best time to learn < username >',\n",
              "       'this my dog telling me he is done playing frisbee for now lazy mutt < url >',\n",
              "       '& 9733 best asian massage on the park slope top rated spa & 9733 7186220221 24 < url >',\n",
              "       'top layer trash',\n",
              "       'when charlie tries to walk into my room and it cant remember if i locked the door or not < url >',\n",
              "       'rt < username > it is shakespeares birthday take a look at some shakespearean trash talk < url >',\n",
              "       'my nips are cold & 128563',\n",
              "       'rt < username > thank you to the perkins student section for participating in the yellow out we all really appreciated it',\n",
              "       'rt < username > jeff fisher saved by the refs that was karma but the zebras messed with it',\n",
              "       'rt < username > wow such banana so potassium much yellow < url >',\n",
              "       '< username > did you make an animal cracker taco',\n",
              "       'exposed jihadi kidnap and murder handbook and plan to infiltrate british army and police < url > via < username >',\n",
              "       'rt < username > she literally just put the whole trash bag on lmfao < url >',\n",
              "       'rt < username > che wigga rt < username > if she puts up with you its because she loves you now make it worth her while & amp love her back & 8230',\n",
              "       'rt < username > green and yellow lil wayne & 128155 & 128154 & 128175 & 128175 & 128175 & 128175',\n",
              "       'majority of the time a womans story is trash anyway',\n",
              "       'rt < username > are you in london this evening well exiron maiden member tony moor will be busking outside balham train station from & 8230',\n",
              "       'rt < username > breakingnews streetart graffiti new mural by duo etamcru in rome italy morning breakfast coffee trash httpt & 8230',\n",
              "       '< username > your a greaser',\n",
              "       'finished yankeeography and still hate the arizona dbacks for winning in 2001 yankees shoulda had that',\n",
              "       'rt < username > my bro made out with an ugly chick at a festival while drunk so now hes known as larry bird because he hits threes & 8230',\n",
              "       'charlie looking like hes the one that made that 3',\n",
              "       '< username > < username > i like where ur domes at smart',\n",
              "       'rt < username > lou gehrig had 17 hand fractures in his career played in 2130 straight games ironhorse yankees < url >',\n",
              "       'want to touch tha boootyyyyyneeeeed to touch the heinie & 127825',\n",
              "       'cool fun thing to ponder the myriad of space trash traveling at thousands of miles per hour right above you & 8594 < url >',\n",
              "       'so my daughter seen charlie villanueva questions on 1000 & 128514 & 128514 & 128514 & 128514',\n",
              "       'i live for twobite brownies',\n",
              "       'rt < username > dying laughing russian wrestlers mock girly man obamas workout video < url >',\n",
              "       '& 8220 < username > colt mccoy wins & 8252 & 65039 hookem & 128002 & 8221 hes still trash',\n",
              "       '< username > do yourself a favor and ball that up and throw in the trash',\n",
              "       'rt < username > atlanta rt < username > houston has so many trash drivers',\n",
              "       '< username > green bananas are better then yellow ones too',\n",
              "       'so about this flappy bird game then',\n",
              "       'selling ex lax brownies in front of meijer to pregnant women gooddeed',\n",
              "       'yankees sec robertson in guy is fantastic sec pitcher',\n",
              "       '< username > hahaha made ya eat crow',\n",
              "       '< username > likecharlie chanstyle never saw that either hmmmakes me think of the cockneys in the killzone series',\n",
              "       'rt < username > my iphone has 2 million times the storage of the 1969 apollo 11 spacecraft computer they went to the moon i throw bird',\n",
              "       'am so high that birds and planes are my peers',\n",
              "       'rt < username > my trash is worth more than you',\n",
              "       '< username > boy i had no idea that was coming its called a smartphone youre horrible at trash talk',\n",
              "       'the train station harrys at is trash ive been to the same eurostar too they refunded my whole trip to paris bc train accident',\n",
              "       'rt < username > my score on flappy bird is higher than the broncos score right now',\n",
              "       'rt < username > got 5 20 % off slots for sole sauce for the early birds today use & 8220save20 & 8221 at checkout < url >',\n",
              "       'yankees nice bounce back < username > kay gotta keep this going',\n",
              "       'is it weird licking your own nip',\n",
              "       'rt < username > report what u want but physically chasinghounding is uncivilised < username > also in case of bansalgadkari < username > & 8230',\n",
              "       'lets go hoosiers iubb & 127936 < url >',\n",
              "       'rt < username > on this day february 13 in 2002 waylon jennings left us for that honkytonk in the sky dreaming my dreams ht',\n",
              "       '< username > sorry i missed that you mean where i live is disgusting or that that muzzies in the uk r disgusting or both have a great sun',\n",
              "       'rt < username > jsu coach omar johnson its what u do against the ball u throw it hit it catch it doesnt matter if the yankees are & 8230',\n",
              "       '< username > just because some moist bint lobbed a sword at you you think youre some ladeda king',\n",
              "       'rt < username > that the yankees have won four straight shane greene starts and 7 of 9 speaks to his stability in a season of starters emergen & 8230',\n",
              "       '& 8220 < username > frogger best game ever & 8221 only cuz you suck at flappy bird',\n",
              "       'why no boycott of racist redskins redskins changethename changethemascot',\n",
              "       'nicholas rushlow wearing lucky yellow shirt nails theophylline bitter crystalline compound extracted from tea leaves spellingbee',\n",
              "       '< username > yall gots betta machinery fo dat hanger be ghetto',\n",
              "       'tiny out here looking like an albino red nose pitbull from a dope boys trap house',\n",
              "       '< username > you look like flappy bird',\n",
              "       '< username > u still a mutt tho lol',\n",
              "       'its awesome when people youve known for years talk trash about you behind your back and then ask you for favors later truly awesome',\n",
              "       'rt < username > richard grenell wapos greg sargent mocks voter id and proves point of proponents < url >',\n",
              "       'rt < username > so yanks have signed brian mccann & amp jacoby ellsbury rumor has it they still want robinson cano babe ruth miguel cabr & 8230',\n",
              "       'rt < username > gardy goes yardy again he leads off the game with a hr for the second straight night and its 10 yankees',\n",
              "       'lol at the benghazi hearings that proved nothing other than republicans only care about taking down pbo foxnews teabaggers',\n",
              "       'big night of & 127936 hoosiers iubb big 10 and pacers nba indiana hoosierstate paulgeorge codyzeller < url >',\n",
              "       'mann are first game is 3 weeks from now cant wait once a redskin always a redskin',\n",
              "       'up early then a bitch driving to denton omg can i move already',\n",
              "       'rt < username > analyzing the impact of masahiro tanaka on springtraining daily brought to you by < username > < url >',\n",
              "       'cant be many things worse than having cops interrupted because a friggin yankee game is still going on',\n",
              "       'overripe eggplants are not good eats uncletweet',\n",
              "       'hey < username > fans is this a good score lookingformore < url >',\n",
              "       'royals milwaukee let yost gonow they wished they hadnt cause they suckhow about nowhes the guy win or lose yankees fire girardi & 128073yost',\n",
              "       'knock em down wit sum chunky & 128548 & 128299',\n",
              "       'rt < username > star wars meets charlie brown < url >',\n",
              "       'teeth can make or break a person you could be a 10 and have yellow teeth and immediately drop to a 2',\n",
              "       'phil hughes looking like the phil hughes of old 2010 yankees mlb',\n",
              "       'rt < username > when i make the paper ball into the trash can & 128240 & 127936 & 128168 < url >',\n",
              "       'rt < username > dc fri 13 bengali harlem & amp lost histories south asian am readingconvo < username > 14th st cc < username > < username > & 8230',\n",
              "       'my grandma threw out all of my raps ones i made from 7th grade to now im literally crying thats all my work in the trash & 128530 & 128532 & 128547 & 128546 & 128557 & 128560 & 128545 & 128548 & 128544 & 128127 & 128122 & 128589',\n",
              "       'jig levitating rt < username > samsung made fun of bendgate now the galaxy note 4 fails too < url > < url >',\n",
              "       '< username > well you got to see pompom pete',\n",
              "       'is it just me or is hicks saying bung beds < username >',\n",
              "       'rt < username > boy went trick or treating at charlie sheens dada not jealous cause all charlie gave out was really good candy and by cand & 8230',\n",
              "       '& 8220 < username > tag a friend that sucks at flappy bird & 8221 < username >',\n",
              "       '< username > < username > < username > i miss the pizza the passion',\n",
              "       'so many weird people in the ghetto at this time',\n",
              "       'she sounded like a bird crowing',\n",
              "       '< username > it didnt open das y i asked cus i thought yu ate wat i had pork chops yellow rice n beans',\n",
              "       'cute dumb females trash', 'this is why i love birds < url >',\n",
              "       'really tempted to let out the redneck side of my drink a lot of beer and sing some country karaoke',\n",
              "       'the yankees dont need tanaka or beltran or all these big name players believe',\n",
              "       'i just put down a pan of brownies',\n",
              "       'rt < username > youve got to have smelt a lot of manure before you can sing like a hillbilly hankwilliams < url >',\n",
              "       'conan obrien needs to get a life with that $ 80 millionmonkey food maybe',\n",
              "       'rt < username > < username > < url > trash',\n",
              "       'rt < username > rt < username > if crabtree woulda caught that over sherman for the game yall woulda said sherman trash & amp he got what & 8230',\n",
              "       '< username > how day feel bout colored folk',\n",
              "       'basically gop romney right wing reactionaries drudgies teabaggers libertaritards all hate our education system and teachers',\n",
              "       'polite yet militant birds notfeeding stencil army typeface font ateam < url >',\n",
              "       'where would me life be without god and < username > seriously id probably be living in a trash can haha & 128514',\n",
              "       'she was telling me about this kid whos soles of his shoes are falling off i am going to get him some shoes hope his parents dont get mad',\n",
              "       'i see u jigga hillary $ wankin',\n",
              "       'rt < username > rt < username > i dont care who kendrick made that song for its still trash',\n",
              "       'my auto correct makes me sound so fob',\n",
              "       'what ever happened to the teen titans of my day and why must they mock me with this teen titans go',\n",
              "       '< username > yellow in paris fantastic effort from allezwiggo and vroomfroomenow just the last stage up for grabs gocav tdf 12',\n",
              "       'cant tell if mexico has been impressive or if brazil has just been trash today',\n",
              "       'hellobrookland were here at the < username > opening serving free samples of cider vegan sliders brownies < url >',\n",
              "       'rt < username > < username > < username > < username > babes we buy brazilian and peruvian not bengali',\n",
              "       'rt < username > rt if you like bmth adtr ptv ymas sws atl om & ampm aa miw btf wcar mcr afi pe bvb wim bc ss cte nsn gd watic aa bfmv fob f & 8230',\n",
              "       'lets cripple the vanity industry how actually start liking who we are and how we look',\n",
              "       'rt < username > rt < username > ive met few people in politics that i disrespect more than charlie crist rudy giuliani',\n",
              "       'how the hell was david murphys hit not a home run clearly over the yellow line < username > another umpire mess up smh',\n",
              "       'rt < username > i want a pet monkey & 128553 & 128525 < url >',\n",
              "       'baseball w < username > for her birthday for some reason lol @ yankee stadium on yelp < url >',\n",
              "       'if i wasnt a yankee fan i probably would be a sf giants fan lol',\n",
              "       'rt < username > call me old fashioned but im sewn together with magic and birds',\n",
              "       'walk off hr < username >',\n",
              "       'charlie sheens video message to president obama < url >',\n",
              "       'you could be viewing the future through rosecolored glasses t more for libra < url >',\n",
              "       'rt < username > poont gotta be trash',\n",
              "       '< username > < username > need to start mcbob because williams only shoot let him play with bird',\n",
              "       '< username > < username > dat cat gonna scratch all up on dat colored boy and he gonna end up in da chow mein',\n",
              "       '< username > its mutual my lil yellow bone & 127827',\n",
              "       '< username > < username > < username > its a mutation genealogy is convoluted basically the zebra gene currieries are slaughtered = extinction',\n",
              "       '& amp thots are wearing uggs rt < username > itsfallbecause negros are pulling out their timbs',\n",
              "       'i think im gonna walk around the house free as a bird',\n",
              "       '< username > im viswa moulie i wanna be ur friend please shall i',\n",
              "       'i cannot express how infinitely better the book is to this trash',\n",
              "       'yankees take all three games in motown im callin it mlb',\n",
              "       'rt < username > and shes watchin him with those eyes and shes makin him linguine & amp clams with that body i just know it',\n",
              "       '< username > pumprules is on bravoquality trash',\n",
              "       'stafford trash without megatron fantasyfootballproblems',\n",
              "       '< username > trash',\n",
              "       'rt < username > video < username > on talking trash while facing < username > during today & 8217s scrimmage & 8211 < url > < url >',\n",
              "       'charlie and ron has constantly put out heat for their entire careers',\n",
              "       '< username > < username > inna di ghetto you alone lmaoo',\n",
              "       'the early bird takes a nap before noon',\n",
              "       'them jants be clutch for bedtime tho & 128514 & 128557',\n",
              "       'according to my brothers ipod its december 1969 if so i predict that mickey mantle of the ny yankees will announce his retirement march 1',\n",
              "       'rt < username > before i betray them i slit my wrist < url >',\n",
              "       '< username > im assuming mickey bubbles',\n",
              "       'rt < username > psychological warfare for dhimmis defeating islam < url > joining forces to take out worlds trash h & 8230',\n",
              "       'i was such a teachers pet in elementary school like i brought them cookies and brownies and gave them hugs im ashamed',\n",
              "       '< username > an coaches dont put them in positions to be successful the offensive struggles can all be put on gardner program is trash',\n",
              "       '< username > i want it i love her gooks she is awesome where did you get it',\n",
              "       'saw brownies on the kitchen counter bit into one and immediately a surge of pain and spice hit my tongue chili flakes eff you brian',\n",
              "       '< username > the little girl tom sawyer gets trapped in the cave along with injun joe and almost die injun joe dies and they find his treasure',\n",
              "       'whoever mocks the poor insults his maker he who is glad at calamity will not go unpunished < url >',\n",
              "       'rt < username > oreo speedwagon fatbands',\n",
              "       'a ghetto girls best bet is to find work at a call center and try to climb that corporate latter',\n",
              "       'ready to go get my fried oreos',\n",
              "       '< username > naw bryan said it was trash hotel so were staying somewhere else',\n",
              "       'supporters of officer darren wilson rally in st louis < url > ferguson kkk tcot tpot teabaggers teaparty',\n",
              "       'sebastian is high on cat nip rn',\n",
              "       'nah electric fairy tale seems cool but id rather buy some drugs with that money',\n",
              "       'how long after the redskins change their nsme will all memorabilia wredskind name be deemef racist and therefore illegal any thoughts',\n",
              "       '< username > we could get matching burner phones and be ghetto fab for a few months',\n",
              "       'i need like 43 fuzzy blankets to sleep & 128525 & 128139',\n",
              "       'so im at tedgibson and ted is getting his hair colored right beside me heeeey',\n",
              "       'twitters little blue birds name is larry after celtics isu larry bird stick ticker is $ twtr',\n",
              "       'he said caprisun and zebra cake & 128514',\n",
              "       '< username > and take the trash out and separate the recyclables',\n",
              "       '& 8220 < username > what will the lakers be after kobe & 8221 trash',\n",
              "       '< username > chug pee', 'rt < username > oreo 6s < url >',\n",
              "       'i cant play flappy bird it makes me angry',\n",
              "       'rt < username > < username > comes in to close out the game here in the 9th yankees',\n",
              "       'rt < username > you know how in superhero stories the best insult for superheroes dumb mooks can come up with is dogooder whiteknight',\n",
              "       'happycolumbusday if is wasnt for americakarlmarx would never have thought of sharing colonialism with injuns',\n",
              "       '< username > < username > hes still a pogue though',\n",
              "       '< username > the only thing better than a bargain is a yankee bargain',\n",
              "       'degenerateartist sniffs whiffy balls involuntary cuz a fairy walks downtown hairy climatechange all our scary sense of hillbilly sneeze & gt',\n",
              "       'rt < username > < username > < username > • congratulations for reinforcing the stereotype for insecure uneducated uncivilized ba & 8230',\n",
              "       'rt < username > reports say female victim was shot while waiting for an oreo mcflurry',\n",
              "       'tbt love you forever ling ling & 128115 & 128114 & 128152 < username > < url >',\n",
              "       'this o6 just caught me talking to a bird and that was pretty embarrassing',\n",
              "       'rt < username > breaking louisville coach charlie strong is expected to accept texas job according to espn & amp media reports & 187 < url >',\n",
              "       '< username > < username > do you think the guinea pig was okay',\n",
              "       'rt < username > giantduck pittsburghduck yellow livestream wpxi nofliter @ duckburgh < url >',\n",
              "       'rt < username > oreo ice cream sandwiches < url >',\n",
              "       'rt < username > we accept the als icebucketchallenge from the < username > & amp < username > we challenge the < username > < username > < username > < url >',\n",
              "       'rt < username > lakers oni thought trash day was monday',\n",
              "       'this morning is brought to you by emergenc i really need to nip this coldflu business in the bud nogermswanted',\n",
              "       'whipped cream & 9829 & 9829 endlesslove',\n",
              "       'rt < username > < username > < username > < username > < username > charlie understood & 128299 how to keep those percentages & 128201 lower < url >',\n",
              "       'rt < username > wen u look liek trash n sum 1 complimentz u < url >',\n",
              "       'rt < username > he no doubt copied it from someone else rt < username > alert the mock turtleneck is back < url >',\n",
              "       'i hate yellow jackets cant feel arms and back lol',\n",
              "       'they have a clumsy bird too lol what is life',\n",
              "       '< username > feel same way about new england patriots & amp new york yankees but unlike u ive worked in boston & amp nyc texas prison is upgrade',\n",
              "       'lmaoooo < username > a bird in the hand is worth two in the bush < url >',\n",
              "       '< username > enjoy itim happy for youbut i hate the yankeesand yes the sox did choke',\n",
              "       '< username > doesn & 8217t it always feel like we go into the season with offensive concepts that we inevitably trash and then we get good',\n",
              "       'no more speculation no more mock drafts its finally draft day bortleskombat stormwarning builtbyucf chargeon',\n",
              "       'how bout them redskins',\n",
              "       '< username > you cant see it but im flipping you the bird',\n",
              "       'yankee homeruns make me all tingly',\n",
              "       'rt < username > oreo cheesecake bars < url >',\n",
              "       '& 9733 @ & 9733 @ & 9733 @ & 9733 @ & 9733 grand opening & 9733 @ & 9733 @ & 9733 @ & 9733 @ & 9733 top class & 9733 oriental massage & 9733 perfect & 9733 < url >',\n",
              "       'a squad of dyke cholas fear nobody they worse than the cartel',\n",
              "       '< username > photo < url > he is in sole heaven',\n",
              "       '< username > < username > u both sorry to give racist < username > a platform w his trash language dana ur intvw was below kindergarten level',\n",
              "       'me downloads flappy bird sierra welp there goes school',\n",
              "       'janet jacksons nip slip iconic',\n",
              "       'rt < username > & 8220 < username > kevin hart make funny faces his curriculum kinda trash & 8221 curriculum & 128514 & 128514 & 128514 < url >',\n",
              "       'lets play what will the ghetto white girl with neck tattoos in front of me buy if you answered cigarillosyouve seen this episode b4',\n",
              "       '22 talented drivers rt < username > i am really glad there havent been any yellows but why havent there been any yellows',\n",
              "       'rt < username > were you expecting anything short of fireworks in his final homestand farewellcaptain < url >',\n",
              "       '< username > just pulled out his pocket constitution bring it man < username > just mocked mccains wackobirds comment hahaha standtall',\n",
              "       'rt < username > charlie crist leads rick scott in a florida governors race where every vote will matter < url >',\n",
              "       '< username > im an early bird and im a night owl so im wise and have worms',\n",
              "       'what the monkey < url >',\n",
              "       '< username > go away already < username >',\n",
              "       'if i were to die and be resurrected as an animal id be a howler monkey',\n",
              "       'why jon hates birds < url >',\n",
              "       '< username > < username > daggone it twins kick it up a notch time to beat the yankees',\n",
              "       'rt < username > oreo cheesecake bars < url >',\n",
              "       'rt < username > fairy tale does not deny the existence of sorrow and failure',\n",
              "       '< username > man city and the yankees have got together to form the 20th mls clubthey begin playing in 2015',\n",
              "       'rt < username > school admins take hungry kids lunch & amp throw in trash because their lunch funds arent paid up thatll teach em < url >',\n",
              "       'u serious bro lol rt < username > 2310am early bird special',\n",
              "       'their gotta be a loaded lux vs murda mook 3',\n",
              "       'rt < username > < username > jay i think once someone has alzheimers suffers from alcoholism and is mildly retarded people shouldnt mak & 8230',\n",
              "       'im a sucker for colored eyes & 128532 & 128532',\n",
              "       'note to self boiling water hot monkey brain', 'cavs trash too',\n",
              "       'rt < username > lifelong yankee fan puts aside rooting interest and returns lost red sox world series ring to rightful owner < url >',\n",
              "       '< username > and the yankees gave you a win happy birthday',\n",
              "       'someone probably told him 6 god was trash',\n",
              "       'omoide yokocho shinjuku tokyo japan jap & 243n by lost in japan by miguel mich & 225n < url >',\n",
              "       'rt < username > i drove my daughters guinea pig to the vets this morning im quite handy with my new callaway golf clubs sickipedia',\n",
              "       '< username > cant even spell right you have the brain of an ape',\n",
              "       'foto mimiblargh ok pls consider this kingdom birbs can u guess who is who and what birds they are < url >',\n",
              "       '< username > you rememberit used to be funny coloured paper',\n",
              "       '< username > < username > how is it being colored blind',\n",
              "       'thank you charlie ff < username > < username > < username > < username > < username > < username >',\n",
              "       '& 128530 my nerves are being worked cos of my monkey & 128529 & 128545',\n",
              "       '< username > theres a reason why the yankees dont want anderson any longer',\n",
              "       '< username > < username > youre saying zebras are goth',\n",
              "       'obamas hellfire missiles tend to vaporize jihadis < username > < username > uniteblue',\n",
              "       'charlie kimball i had nowhere to go < url > indycar mavtv 500',\n",
              "       'rt < username > curious george the curious little monkey or deranged serial cat killer the story the man with the yellow hat doesnt want you & 8230',\n",
              "       'its karaoke night baby hi ho hi ho its off to sing i go with a voice that sounds like sandpaper hi ho hi ho',\n",
              "       'the john cantlie video issued by al furqan media is a new level of the jihadi propaganda promises more episodes & amp wages ideological warfare',\n",
              "       'people who slam on the brakes at yellow lights should not be allowed to drive',\n",
              "       'rt < username > video renegade cut snowpiercer & 8212 an analysis of bong joonho & 8217s scifi action film topics include < url >',\n",
              "       'she unfollowed me after i said i cried watching dawn of the apes lmaooooooo',\n",
              "       'oreos are my life',\n",
              "       '< username > penske runs the 22 in nascar its yellow theres a sponsor already there wouldmakealottasense',\n",
              "       '< username > cute but i love her yellow raincoat the most the contrast with that & ampher hair looks so cute p i love her face in your icon',\n",
              "       'i said middle school days as in the ghetto way people & 8212 and what i am nor here to impress you what are you go < url >',\n",
              "       '< username > aka he wanna keep you warm shoulda just introduced himself coons',\n",
              "       'brownies for my brownie i love this movie & 128517',\n",
              "       'on a mission to find some zebra cakes'], dtype='<U497')"
            ]
          },
          "metadata": {},
          "execution_count": 100
        }
      ]
    },
    {
      "cell_type": "code",
      "source": [
        "flattened = flattened.astype(object)"
      ],
      "metadata": {
        "id": "2tIUauBR9bk-"
      },
      "execution_count": null,
      "outputs": []
    },
    {
      "cell_type": "code",
      "source": [
        "flattened.shape"
      ],
      "metadata": {
        "colab": {
          "base_uri": "https://localhost:8080/"
        },
        "outputId": "8bfe09aa-2719-4381-ebcb-fd0a5efec82c",
        "id": "C-LE2pGj9bk-"
      },
      "execution_count": null,
      "outputs": [
        {
          "output_type": "execute_result",
          "data": {
            "text/plain": [
              "(9873,)"
            ]
          },
          "metadata": {},
          "execution_count": 43
        }
      ]
    },
    {
      "cell_type": "code",
      "source": [
        "data_3 = []\n",
        "for each in tqdm(label_2):\n",
        "    data_3.append(swap_aug.augment(each))"
      ],
      "metadata": {
        "colab": {
          "base_uri": "https://localhost:8080/"
        },
        "outputId": "d3b9ac9b-5f6f-4e27-8e74-935b7125141b",
        "id": "caGGwuFjkTAa"
      },
      "execution_count": null,
      "outputs": [
        {
          "output_type": "stream",
          "name": "stderr",
          "text": [
            "100%|██████████| 3291/3291 [00:00<00:00, 4468.46it/s]\n"
          ]
        }
      ]
    },
    {
      "cell_type": "code",
      "source": [
        "data_3 = np.array(data_3, dtype = object).flatten()"
      ],
      "metadata": {
        "id": "dZEP9LeCkTAb"
      },
      "execution_count": null,
      "outputs": []
    },
    {
      "cell_type": "code",
      "source": [
        "data_3[:30]"
      ],
      "metadata": {
        "colab": {
          "base_uri": "https://localhost:8080/"
        },
        "id": "dZBqsF6BkVq-",
        "outputId": "35ad8e57-cd5a-438d-e6cb-14744ee3f1b5"
      },
      "execution_count": null,
      "outputs": [
        {
          "output_type": "execute_result",
          "data": {
            "text/plain": [
              "array(['Floppy chalmers taking bird over after lebron here his hero',\n",
              "       '< rt> username news & and 8212 democrats antisemitism & 8212 group jewish condemns vp biden joe & 8217s offensive to reference shylocks url <>',\n",
              "       'rt <username> rt if listen you to these bands & a7x 128522 ptv sws atl adtr bvb ymas bmth fob aa 182 blink tdg fir ss mcr me follow amp & everyon 8230 &',\n",
              "       'zebra red despite the special beats rocket portland those shore jersey floppers',\n",
              "       'dont I to want yesterdays deal trash with a theres reason it got thrown out the first in place',\n",
              "       'Username <> video a i porn made actress sexy capri anderson kissing video charlie with <sheen> via url username <>',\n",
              "       'Have I dress to tomorrow for up interviews mock and still dont i know how to the tie tie & 128530',\n",
              "       '< username> i its realized the links one on too awakening so you two killed birds one with unless stone getting youre wind fish the too',\n",
              "       '< rt username> have to go slant with the pass to outside your in linebacker situation that',\n",
              "       '128553 & monkey mad',\n",
              "       'Feminism debating with a gay professor uninformed girls and low iq not is rednecks my idea of fun a night wednesday',\n",
              "       'Username <> username <> jerseyodds dont trash areyou last wouldnt 10 here minutes around to go back barney watching',\n",
              "       'Username <at> some point we need to discuss delicious the vegan brownie how from <username> u on tastes st',\n",
              "       '<> username you to so about purpose charlie to',\n",
              "       '& 8220 <username if howard elbow> will bosh bosh back fight & 8221 to have dont mcbob got and bird ud',\n",
              "       '< rt username charlie> the did sheen ice challenge bucket the way right url <>',\n",
              "       '8220 & <> username thats and why mock are drafts joke friends a my 8221anyone &',\n",
              "       'Username <how> bout so now just was trash huh',\n",
              "       '< username> its opinions idiotic this like make that less polls than trash polls werent a problem when with people integrity voting were',\n",
              "       'rt username <i> like dont right the weather now its scaring me why lol is it yellow',\n",
              "       'Mommy said cats pussy no my inside house dawgs',\n",
              "       'This bird game addicting flappy',\n",
              "       'ascii generate boxes nodejs with i all is see ability the to bring flappybird in node ascii via tubes bird and ^ _ ^ <> url',\n",
              "       'Username <well> pee is oft yellow', 'Username <blaxican >',\n",
              "       'song some call the bird me of generation my',\n",
              "       '< rt> gracias username por el jugar con corazon a a ahora los ganarle yankees <username> <> url',\n",
              "       '< rt> drinking username to the drop last teapot mijikai haiku washing',\n",
              "       'short yes answer grouse ~ sage will rebellion use obama small two birds to limit drilling in oil the west <url >',\n",
              "       'If temple beats rutgers i today will a clam be happy'],\n",
              "      dtype=object)"
            ]
          },
          "metadata": {},
          "execution_count": 99
        }
      ]
    },
    {
      "cell_type": "code",
      "source": [
        "df_aug_label2 = pd.DataFrame({\"tweet\": flattened, \"label\": 2})"
      ],
      "metadata": {
        "id": "usurqyFTf6c3"
      },
      "execution_count": null,
      "outputs": []
    },
    {
      "cell_type": "code",
      "source": [
        "df_aug_label0 = df_aug_label0.append(train_dataset[[\"tweet\", \"label\"]])"
      ],
      "metadata": {
        "id": "EwtouKpxgajn"
      },
      "execution_count": null,
      "outputs": []
    },
    {
      "cell_type": "code",
      "source": [
        "df_aug_label0 = df_aug_label0.append(df_aug_label2[[\"tweet\", \"label\"]])"
      ],
      "metadata": {
        "id": "JUMM4in7gmDI"
      },
      "execution_count": null,
      "outputs": []
    },
    {
      "cell_type": "code",
      "source": [
        "df_aug_label0.groupby(\"label\").size()"
      ],
      "metadata": {
        "colab": {
          "base_uri": "https://localhost:8080/"
        },
        "id": "YNAA-9hhgsyR",
        "outputId": "14fa3e79-0d38-43b1-b586-6d301bc2c660"
      },
      "execution_count": null,
      "outputs": [
        {
          "output_type": "execute_result",
          "data": {
            "text/plain": [
              "label\n",
              "0    12507\n",
              "1    15398\n",
              "2    13164\n",
              "dtype: int64"
            ]
          },
          "metadata": {},
          "execution_count": 47
        }
      ]
    },
    {
      "cell_type": "code",
      "source": [
        "file_got = df_aug_label0.to_csv(\"H3_Multiclass_Hate_Speech_Detection_train_preprocessed_augmented.csv\")"
      ],
      "metadata": {
        "id": "yuNFHAEDhDu8"
      },
      "execution_count": null,
      "outputs": []
    },
    {
      "cell_type": "code",
      "source": [
        "df_aug_label2.to_csv(\"Neither_Augmented_NEW.csv\")"
      ],
      "metadata": {
        "id": "C10jTyCkBRpE"
      },
      "execution_count": null,
      "outputs": []
    },
    {
      "cell_type": "code",
      "source": [
        "df_aug_label0_aug = df_aug_label0"
      ],
      "metadata": {
        "id": "XiBwbRH8OoQc"
      },
      "execution_count": null,
      "outputs": []
    },
    {
      "cell_type": "code",
      "source": [
        "df_aug_label0_aug.head"
      ],
      "metadata": {
        "colab": {
          "base_uri": "https://localhost:8080/"
        },
        "id": "s5m498sPO1cT",
        "outputId": "86ff6020-c945-4c14-e68c-92f6dad1f6dc"
      },
      "execution_count": null,
      "outputs": [
        {
          "output_type": "execute_result",
          "data": {
            "text/plain": [
              "<bound method NDFrame.head of                                                    tweet  label\n",
              "0                              al as well late faggot up      0\n",
              "1                                     al too fuckin lmao      0\n",
              "2            < username> idc what u telephone lol nigger      0\n",
              "3        username <> idc telephone commence u lol nigger      0\n",
              "4      you omg wont say it my to stupid ass hoes talk...      0\n",
              "...                                                  ...    ...\n",
              "11365  iodine hate the white folderol copper who rape...      0\n",
              "11366  you old bittersalty ass niccas cause my flesh ...      0\n",
              "11367  you old bittersalty ass niccas make my flesh c...      0\n",
              "11368  in force morning to lightskin dyke bitches wit...      0\n",
              "11369  good good morning to lightskin dyke bitches wi...      0\n",
              "\n",
              "[11370 rows x 2 columns]>"
            ]
          },
          "metadata": {},
          "execution_count": 52
        }
      ]
    },
    {
      "cell_type": "code",
      "source": [
        "df_aug_label0_aug.to_csv(\"HateSpeech_Augmented_NEW.csv\")"
      ],
      "metadata": {
        "id": "imlY0IiRO4is"
      },
      "execution_count": null,
      "outputs": []
    },
    {
      "cell_type": "code",
      "source": [
        "train_dataset"
      ],
      "metadata": {
        "colab": {
          "base_uri": "https://localhost:8080/",
          "height": 2468
        },
        "id": "uSZ8mx1LfSW9",
        "outputId": "f311206c-f026-4100-f5a7-0a430ba7624e"
      },
      "execution_count": null,
      "outputs": [
        {
          "output_type": "execute_result",
          "data": {
            "text/plain": [
              "       label                                              tweet     id\n",
              "0          1  <username> lmfao this cat started beating the ...      0\n",
              "1          1  rt <username> lol i be eatin da shit outta sum...      1\n",
              "2          1  rt <username> how bitch how & 8220 <username> ...      2\n",
              "3          2  floppy bird chalmers over here taking after hi...      3\n",
              "4          1              boolin in the bando wit a few bitches      4\n",
              "...      ...                                                ...    ...\n",
              "19821      0  good morning to lightskin dyke bitches with st...  19821\n",
              "19822      2                                    making brownies  19822\n",
              "19823      1  yall think <username> would call my daughter a...  19823\n",
              "19824      1                too little too late bitch ass nigga  19824\n",
              "19825      1  ultimatepickupline bitch get naked works 10 ti...  19825\n",
              "\n",
              "[19826 rows x 3 columns]"
            ],
            "text/html": [
              "\n",
              "  <div id=\"df-4e0d23a6-68da-42c8-9f6a-3e74130d33b5\">\n",
              "    <div class=\"colab-df-container\">\n",
              "      <div>\n",
              "<style scoped>\n",
              "    .dataframe tbody tr th:only-of-type {\n",
              "        vertical-align: middle;\n",
              "    }\n",
              "\n",
              "    .dataframe tbody tr th {\n",
              "        vertical-align: top;\n",
              "    }\n",
              "\n",
              "    .dataframe thead th {\n",
              "        text-align: right;\n",
              "    }\n",
              "</style>\n",
              "<table border=\"1\" class=\"dataframe\">\n",
              "  <thead>\n",
              "    <tr style=\"text-align: right;\">\n",
              "      <th></th>\n",
              "      <th>label</th>\n",
              "      <th>tweet</th>\n",
              "      <th>id</th>\n",
              "    </tr>\n",
              "  </thead>\n",
              "  <tbody>\n",
              "    <tr>\n",
              "      <th>0</th>\n",
              "      <td>1</td>\n",
              "      <td>&lt;username&gt; lmfao this cat started beating the ...</td>\n",
              "      <td>0</td>\n",
              "    </tr>\n",
              "    <tr>\n",
              "      <th>1</th>\n",
              "      <td>1</td>\n",
              "      <td>rt &lt;username&gt; lol i be eatin da shit outta sum...</td>\n",
              "      <td>1</td>\n",
              "    </tr>\n",
              "    <tr>\n",
              "      <th>2</th>\n",
              "      <td>1</td>\n",
              "      <td>rt &lt;username&gt; how bitch how &amp; 8220 &lt;username&gt; ...</td>\n",
              "      <td>2</td>\n",
              "    </tr>\n",
              "    <tr>\n",
              "      <th>3</th>\n",
              "      <td>2</td>\n",
              "      <td>floppy bird chalmers over here taking after hi...</td>\n",
              "      <td>3</td>\n",
              "    </tr>\n",
              "    <tr>\n",
              "      <th>4</th>\n",
              "      <td>1</td>\n",
              "      <td>boolin in the bando wit a few bitches</td>\n",
              "      <td>4</td>\n",
              "    </tr>\n",
              "    <tr>\n",
              "      <th>...</th>\n",
              "      <td>...</td>\n",
              "      <td>...</td>\n",
              "      <td>...</td>\n",
              "    </tr>\n",
              "    <tr>\n",
              "      <th>19821</th>\n",
              "      <td>0</td>\n",
              "      <td>good morning to lightskin dyke bitches with st...</td>\n",
              "      <td>19821</td>\n",
              "    </tr>\n",
              "    <tr>\n",
              "      <th>19822</th>\n",
              "      <td>2</td>\n",
              "      <td>making brownies</td>\n",
              "      <td>19822</td>\n",
              "    </tr>\n",
              "    <tr>\n",
              "      <th>19823</th>\n",
              "      <td>1</td>\n",
              "      <td>yall think &lt;username&gt; would call my daughter a...</td>\n",
              "      <td>19823</td>\n",
              "    </tr>\n",
              "    <tr>\n",
              "      <th>19824</th>\n",
              "      <td>1</td>\n",
              "      <td>too little too late bitch ass nigga</td>\n",
              "      <td>19824</td>\n",
              "    </tr>\n",
              "    <tr>\n",
              "      <th>19825</th>\n",
              "      <td>1</td>\n",
              "      <td>ultimatepickupline bitch get naked works 10 ti...</td>\n",
              "      <td>19825</td>\n",
              "    </tr>\n",
              "  </tbody>\n",
              "</table>\n",
              "<p>19826 rows × 3 columns</p>\n",
              "</div>\n",
              "      <button class=\"colab-df-convert\" onclick=\"convertToInteractive('df-4e0d23a6-68da-42c8-9f6a-3e74130d33b5')\"\n",
              "              title=\"Convert this dataframe to an interactive table.\"\n",
              "              style=\"display:none;\">\n",
              "        \n",
              "  <svg xmlns=\"http://www.w3.org/2000/svg\" height=\"24px\"viewBox=\"0 0 24 24\"\n",
              "       width=\"24px\">\n",
              "    <path d=\"M0 0h24v24H0V0z\" fill=\"none\"/>\n",
              "    <path d=\"M18.56 5.44l.94 2.06.94-2.06 2.06-.94-2.06-.94-.94-2.06-.94 2.06-2.06.94zm-11 1L8.5 8.5l.94-2.06 2.06-.94-2.06-.94L8.5 2.5l-.94 2.06-2.06.94zm10 10l.94 2.06.94-2.06 2.06-.94-2.06-.94-.94-2.06-.94 2.06-2.06.94z\"/><path d=\"M17.41 7.96l-1.37-1.37c-.4-.4-.92-.59-1.43-.59-.52 0-1.04.2-1.43.59L10.3 9.45l-7.72 7.72c-.78.78-.78 2.05 0 2.83L4 21.41c.39.39.9.59 1.41.59.51 0 1.02-.2 1.41-.59l7.78-7.78 2.81-2.81c.8-.78.8-2.07 0-2.86zM5.41 20L4 18.59l7.72-7.72 1.47 1.35L5.41 20z\"/>\n",
              "  </svg>\n",
              "      </button>\n",
              "      \n",
              "  <style>\n",
              "    .colab-df-container {\n",
              "      display:flex;\n",
              "      flex-wrap:wrap;\n",
              "      gap: 12px;\n",
              "    }\n",
              "\n",
              "    .colab-df-convert {\n",
              "      background-color: #E8F0FE;\n",
              "      border: none;\n",
              "      border-radius: 50%;\n",
              "      cursor: pointer;\n",
              "      display: none;\n",
              "      fill: #1967D2;\n",
              "      height: 32px;\n",
              "      padding: 0 0 0 0;\n",
              "      width: 32px;\n",
              "    }\n",
              "\n",
              "    .colab-df-convert:hover {\n",
              "      background-color: #E2EBFA;\n",
              "      box-shadow: 0px 1px 2px rgba(60, 64, 67, 0.3), 0px 1px 3px 1px rgba(60, 64, 67, 0.15);\n",
              "      fill: #174EA6;\n",
              "    }\n",
              "\n",
              "    [theme=dark] .colab-df-convert {\n",
              "      background-color: #3B4455;\n",
              "      fill: #D2E3FC;\n",
              "    }\n",
              "\n",
              "    [theme=dark] .colab-df-convert:hover {\n",
              "      background-color: #434B5C;\n",
              "      box-shadow: 0px 1px 3px 1px rgba(0, 0, 0, 0.15);\n",
              "      filter: drop-shadow(0px 1px 2px rgba(0, 0, 0, 0.3));\n",
              "      fill: #FFFFFF;\n",
              "    }\n",
              "  </style>\n",
              "\n",
              "      <script>\n",
              "        const buttonEl =\n",
              "          document.querySelector('#df-4e0d23a6-68da-42c8-9f6a-3e74130d33b5 button.colab-df-convert');\n",
              "        buttonEl.style.display =\n",
              "          google.colab.kernel.accessAllowed ? 'block' : 'none';\n",
              "\n",
              "        async function convertToInteractive(key) {\n",
              "          const element = document.querySelector('#df-4e0d23a6-68da-42c8-9f6a-3e74130d33b5');\n",
              "          const dataTable =\n",
              "            await google.colab.kernel.invokeFunction('convertToInteractive',\n",
              "                                                     [key], {});\n",
              "          if (!dataTable) return;\n",
              "\n",
              "          const docLinkHtml = 'Like what you see? Visit the ' +\n",
              "            '<a target=\"_blank\" href=https://colab.research.google.com/notebooks/data_table.ipynb>data table notebook</a>'\n",
              "            + ' to learn more about interactive tables.';\n",
              "          element.innerHTML = '';\n",
              "          dataTable['output_type'] = 'display_data';\n",
              "          await google.colab.output.renderOutput(dataTable, element);\n",
              "          const docLink = document.createElement('div');\n",
              "          docLink.innerHTML = docLinkHtml;\n",
              "          element.appendChild(docLink);\n",
              "        }\n",
              "      </script>\n",
              "    </div>\n",
              "  </div>\n",
              "  "
            ]
          },
          "metadata": {},
          "execution_count": 58
        }
      ]
    }
  ]
}