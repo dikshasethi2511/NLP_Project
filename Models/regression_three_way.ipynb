{
  "nbformat": 4,
  "nbformat_minor": 0,
  "metadata": {
    "colab": {
      "provenance": []
    },
    "kernelspec": {
      "name": "python3",
      "display_name": "Python 3"
    },
    "language_info": {
      "name": "python"
    }
  },
  "cells": [
    {
      "cell_type": "code",
      "source": [
        "import pandas as pd\n",
        "from sklearn.model_selection import GridSearchCV"
      ],
      "metadata": {
        "id": "Z1JOLIz90FoR"
      },
      "execution_count": null,
      "outputs": []
    },
    {
      "cell_type": "code",
      "execution_count": null,
      "metadata": {
        "id": "Nd4oszY8z4yA"
      },
      "outputs": [],
      "source": [
        "train_dataset = pd.read_csv('/content/drive/MyDrive/NLP_Project_Dataset/sbert_encodings.csv')\n",
        "test_dataset = pd.read_csv('/content/drive/MyDrive/NLP_Project_Dataset/H3_Multiclass_Hate_Speech_Detection_test_preprocessed.csv')"
      ]
    },
    {
      "cell_type": "code",
      "source": [
        "from sklearn.linear_model import LogisticRegression\n",
        "from sklearn.model_selection import train_test_split"
      ],
      "metadata": {
        "id": "RzbedFqd0Hm1"
      },
      "execution_count": null,
      "outputs": []
    },
    {
      "cell_type": "code",
      "source": [
        "train_dataset, test = train_test_split(train_dataset, test_size=0.2, shuffle = True)"
      ],
      "metadata": {
        "id": "SlagTeuq8brR"
      },
      "execution_count": null,
      "outputs": []
    },
    {
      "cell_type": "code",
      "source": [
        "train_dataset.dtypes"
      ],
      "metadata": {
        "colab": {
          "base_uri": "https://localhost:8080/"
        },
        "id": "AanYW2fzKcO8",
        "outputId": "08a4a949-55e3-48e1-83bc-eaa41adc2739"
      },
      "execution_count": null,
      "outputs": [
        {
          "output_type": "execute_result",
          "data": {
            "text/plain": [
              "Unnamed: 0         int64\n",
              "label              int64\n",
              "tweet             object\n",
              "id                 int64\n",
              "tweets_encoded    object\n",
              "dtype: object"
            ]
          },
          "metadata": {},
          "execution_count": 170
        }
      ]
    },
    {
      "cell_type": "code",
      "source": [
        "df_train_for_label0 = train_dataset.copy()\n",
        "df_train_for_label1 = train_dataset.copy()\n",
        "df_train_for_label2 = train_dataset.copy()"
      ],
      "metadata": {
        "id": "zsaBB-CE0T53"
      },
      "execution_count": null,
      "outputs": []
    },
    {
      "cell_type": "code",
      "source": [
        "def change_label(dataframe, label):\n",
        "  for index in dataframe.index:\n",
        "    print(dataframe[\"label\"][index])\n",
        "    if dataframe[\"label\"][index] != label:\n",
        "      dataframe[\"label\"][index] = -1\n",
        "\n",
        "  return dataframe"
      ],
      "metadata": {
        "id": "f4RAofXI0tEw"
      },
      "execution_count": null,
      "outputs": []
    },
    {
      "cell_type": "code",
      "source": [
        "df_train_for_label0.replace(1, -1, inplace=True)\n",
        "df_train_for_label0.replace(2, -1, inplace=True)"
      ],
      "metadata": {
        "id": "-aEhuTpu05g2"
      },
      "execution_count": null,
      "outputs": []
    },
    {
      "cell_type": "code",
      "source": [
        "df_train_for_label0[df_train_for_label0[\"label\"] == 0]"
      ],
      "metadata": {
        "colab": {
          "base_uri": "https://localhost:8080/",
          "height": 424
        },
        "id": "z7DA1PPSJ_Q4",
        "outputId": "9d76fa2e-e01d-4ab7-e822-1b7264937619"
      },
      "execution_count": null,
      "outputs": [
        {
          "output_type": "execute_result",
          "data": {
            "text/plain": [
              "       Unnamed: 0  label                                              tweet  \\\n",
              "13800       13800      0  <username> <username> teaching that pretend so...   \n",
              "2928         2928      0  <username> if you go could you hook up the pla...   \n",
              "4142         4142      0   rt <username> you got niggas & amp i got bitches   \n",
              "3696         3696      0                       <username> yes you do retard   \n",
              "5381         5381      0                       <username> im a faggot <url>   \n",
              "...           ...    ...                                                ...   \n",
              "4975         4975      0                   minus all the retarded poor bots   \n",
              "8710         8710      0  <username> hey sir house nigger uncle tom aren...   \n",
              "839           839      0  <username> faggot i knew you werent really my ...   \n",
              "14506       14506      0                                     <username> fag   \n",
              "18658       18658      0  <username> thats what happens when you date a ...   \n",
              "\n",
              "          id                                     tweets_encoded  \n",
              "13800  13800  [-0.08464338630437851, 0.013386186212301254, -...  \n",
              "2928    2928  [-0.020191464573144913, -0.08896484225988388, ...  \n",
              "4142    4142  [-0.10463734716176987, -0.03519221395254135, 0...  \n",
              "3696    3696  [0.02734728530049324, 0.04458444193005562, 0.0...  \n",
              "5381    5381  [-0.055752597749233246, -0.033634789288043976,...  \n",
              "...      ...                                                ...  \n",
              "4975    4975  [-0.04100295156240463, -0.004550210665911436, ...  \n",
              "8710    8710  [-0.06346769630908966, 0.041710130870342255, 0...  \n",
              "839      839  [-0.05758432298898697, -0.01377327460795641, 0...  \n",
              "14506  14506  [-0.06749079376459122, -0.011575460433959961, ...  \n",
              "18658  18658  [-0.022829223424196243, 0.009743094444274902, ...  \n",
              "\n",
              "[921 rows x 5 columns]"
            ],
            "text/html": [
              "\n",
              "  <div id=\"df-f14e0fd0-ec59-4b24-a49a-b42c03a5db82\">\n",
              "    <div class=\"colab-df-container\">\n",
              "      <div>\n",
              "<style scoped>\n",
              "    .dataframe tbody tr th:only-of-type {\n",
              "        vertical-align: middle;\n",
              "    }\n",
              "\n",
              "    .dataframe tbody tr th {\n",
              "        vertical-align: top;\n",
              "    }\n",
              "\n",
              "    .dataframe thead th {\n",
              "        text-align: right;\n",
              "    }\n",
              "</style>\n",
              "<table border=\"1\" class=\"dataframe\">\n",
              "  <thead>\n",
              "    <tr style=\"text-align: right;\">\n",
              "      <th></th>\n",
              "      <th>Unnamed: 0</th>\n",
              "      <th>label</th>\n",
              "      <th>tweet</th>\n",
              "      <th>id</th>\n",
              "      <th>tweets_encoded</th>\n",
              "    </tr>\n",
              "  </thead>\n",
              "  <tbody>\n",
              "    <tr>\n",
              "      <th>13800</th>\n",
              "      <td>13800</td>\n",
              "      <td>0</td>\n",
              "      <td>&lt;username&gt; &lt;username&gt; teaching that pretend so...</td>\n",
              "      <td>13800</td>\n",
              "      <td>[-0.08464338630437851, 0.013386186212301254, -...</td>\n",
              "    </tr>\n",
              "    <tr>\n",
              "      <th>2928</th>\n",
              "      <td>2928</td>\n",
              "      <td>0</td>\n",
              "      <td>&lt;username&gt; if you go could you hook up the pla...</td>\n",
              "      <td>2928</td>\n",
              "      <td>[-0.020191464573144913, -0.08896484225988388, ...</td>\n",
              "    </tr>\n",
              "    <tr>\n",
              "      <th>4142</th>\n",
              "      <td>4142</td>\n",
              "      <td>0</td>\n",
              "      <td>rt &lt;username&gt; you got niggas &amp; amp i got bitches</td>\n",
              "      <td>4142</td>\n",
              "      <td>[-0.10463734716176987, -0.03519221395254135, 0...</td>\n",
              "    </tr>\n",
              "    <tr>\n",
              "      <th>3696</th>\n",
              "      <td>3696</td>\n",
              "      <td>0</td>\n",
              "      <td>&lt;username&gt; yes you do retard</td>\n",
              "      <td>3696</td>\n",
              "      <td>[0.02734728530049324, 0.04458444193005562, 0.0...</td>\n",
              "    </tr>\n",
              "    <tr>\n",
              "      <th>5381</th>\n",
              "      <td>5381</td>\n",
              "      <td>0</td>\n",
              "      <td>&lt;username&gt; im a faggot &lt;url&gt;</td>\n",
              "      <td>5381</td>\n",
              "      <td>[-0.055752597749233246, -0.033634789288043976,...</td>\n",
              "    </tr>\n",
              "    <tr>\n",
              "      <th>...</th>\n",
              "      <td>...</td>\n",
              "      <td>...</td>\n",
              "      <td>...</td>\n",
              "      <td>...</td>\n",
              "      <td>...</td>\n",
              "    </tr>\n",
              "    <tr>\n",
              "      <th>4975</th>\n",
              "      <td>4975</td>\n",
              "      <td>0</td>\n",
              "      <td>minus all the retarded poor bots</td>\n",
              "      <td>4975</td>\n",
              "      <td>[-0.04100295156240463, -0.004550210665911436, ...</td>\n",
              "    </tr>\n",
              "    <tr>\n",
              "      <th>8710</th>\n",
              "      <td>8710</td>\n",
              "      <td>0</td>\n",
              "      <td>&lt;username&gt; hey sir house nigger uncle tom aren...</td>\n",
              "      <td>8710</td>\n",
              "      <td>[-0.06346769630908966, 0.041710130870342255, 0...</td>\n",
              "    </tr>\n",
              "    <tr>\n",
              "      <th>839</th>\n",
              "      <td>839</td>\n",
              "      <td>0</td>\n",
              "      <td>&lt;username&gt; faggot i knew you werent really my ...</td>\n",
              "      <td>839</td>\n",
              "      <td>[-0.05758432298898697, -0.01377327460795641, 0...</td>\n",
              "    </tr>\n",
              "    <tr>\n",
              "      <th>14506</th>\n",
              "      <td>14506</td>\n",
              "      <td>0</td>\n",
              "      <td>&lt;username&gt; fag</td>\n",
              "      <td>14506</td>\n",
              "      <td>[-0.06749079376459122, -0.011575460433959961, ...</td>\n",
              "    </tr>\n",
              "    <tr>\n",
              "      <th>18658</th>\n",
              "      <td>18658</td>\n",
              "      <td>0</td>\n",
              "      <td>&lt;username&gt; thats what happens when you date a ...</td>\n",
              "      <td>18658</td>\n",
              "      <td>[-0.022829223424196243, 0.009743094444274902, ...</td>\n",
              "    </tr>\n",
              "  </tbody>\n",
              "</table>\n",
              "<p>921 rows × 5 columns</p>\n",
              "</div>\n",
              "      <button class=\"colab-df-convert\" onclick=\"convertToInteractive('df-f14e0fd0-ec59-4b24-a49a-b42c03a5db82')\"\n",
              "              title=\"Convert this dataframe to an interactive table.\"\n",
              "              style=\"display:none;\">\n",
              "        \n",
              "  <svg xmlns=\"http://www.w3.org/2000/svg\" height=\"24px\"viewBox=\"0 0 24 24\"\n",
              "       width=\"24px\">\n",
              "    <path d=\"M0 0h24v24H0V0z\" fill=\"none\"/>\n",
              "    <path d=\"M18.56 5.44l.94 2.06.94-2.06 2.06-.94-2.06-.94-.94-2.06-.94 2.06-2.06.94zm-11 1L8.5 8.5l.94-2.06 2.06-.94-2.06-.94L8.5 2.5l-.94 2.06-2.06.94zm10 10l.94 2.06.94-2.06 2.06-.94-2.06-.94-.94-2.06-.94 2.06-2.06.94z\"/><path d=\"M17.41 7.96l-1.37-1.37c-.4-.4-.92-.59-1.43-.59-.52 0-1.04.2-1.43.59L10.3 9.45l-7.72 7.72c-.78.78-.78 2.05 0 2.83L4 21.41c.39.39.9.59 1.41.59.51 0 1.02-.2 1.41-.59l7.78-7.78 2.81-2.81c.8-.78.8-2.07 0-2.86zM5.41 20L4 18.59l7.72-7.72 1.47 1.35L5.41 20z\"/>\n",
              "  </svg>\n",
              "      </button>\n",
              "      \n",
              "  <style>\n",
              "    .colab-df-container {\n",
              "      display:flex;\n",
              "      flex-wrap:wrap;\n",
              "      gap: 12px;\n",
              "    }\n",
              "\n",
              "    .colab-df-convert {\n",
              "      background-color: #E8F0FE;\n",
              "      border: none;\n",
              "      border-radius: 50%;\n",
              "      cursor: pointer;\n",
              "      display: none;\n",
              "      fill: #1967D2;\n",
              "      height: 32px;\n",
              "      padding: 0 0 0 0;\n",
              "      width: 32px;\n",
              "    }\n",
              "\n",
              "    .colab-df-convert:hover {\n",
              "      background-color: #E2EBFA;\n",
              "      box-shadow: 0px 1px 2px rgba(60, 64, 67, 0.3), 0px 1px 3px 1px rgba(60, 64, 67, 0.15);\n",
              "      fill: #174EA6;\n",
              "    }\n",
              "\n",
              "    [theme=dark] .colab-df-convert {\n",
              "      background-color: #3B4455;\n",
              "      fill: #D2E3FC;\n",
              "    }\n",
              "\n",
              "    [theme=dark] .colab-df-convert:hover {\n",
              "      background-color: #434B5C;\n",
              "      box-shadow: 0px 1px 3px 1px rgba(0, 0, 0, 0.15);\n",
              "      filter: drop-shadow(0px 1px 2px rgba(0, 0, 0, 0.3));\n",
              "      fill: #FFFFFF;\n",
              "    }\n",
              "  </style>\n",
              "\n",
              "      <script>\n",
              "        const buttonEl =\n",
              "          document.querySelector('#df-f14e0fd0-ec59-4b24-a49a-b42c03a5db82 button.colab-df-convert');\n",
              "        buttonEl.style.display =\n",
              "          google.colab.kernel.accessAllowed ? 'block' : 'none';\n",
              "\n",
              "        async function convertToInteractive(key) {\n",
              "          const element = document.querySelector('#df-f14e0fd0-ec59-4b24-a49a-b42c03a5db82');\n",
              "          const dataTable =\n",
              "            await google.colab.kernel.invokeFunction('convertToInteractive',\n",
              "                                                     [key], {});\n",
              "          if (!dataTable) return;\n",
              "\n",
              "          const docLinkHtml = 'Like what you see? Visit the ' +\n",
              "            '<a target=\"_blank\" href=https://colab.research.google.com/notebooks/data_table.ipynb>data table notebook</a>'\n",
              "            + ' to learn more about interactive tables.';\n",
              "          element.innerHTML = '';\n",
              "          dataTable['output_type'] = 'display_data';\n",
              "          await google.colab.output.renderOutput(dataTable, element);\n",
              "          const docLink = document.createElement('div');\n",
              "          docLink.innerHTML = docLinkHtml;\n",
              "          element.appendChild(docLink);\n",
              "        }\n",
              "      </script>\n",
              "    </div>\n",
              "  </div>\n",
              "  "
            ]
          },
          "metadata": {},
          "execution_count": 174
        }
      ]
    },
    {
      "cell_type": "code",
      "source": [
        "df_train_for_label1.replace(0, -1, inplace=True)\n",
        "df_train_for_label1.replace(2, -1, inplace=True)"
      ],
      "metadata": {
        "id": "3rUweFssM9D8"
      },
      "execution_count": null,
      "outputs": []
    },
    {
      "cell_type": "code",
      "source": [
        "df_train_for_label2.replace(0, -1, inplace=True)\n",
        "df_train_for_label2.replace(1, -1, inplace=True)"
      ],
      "metadata": {
        "id": "3jGfJuo3M_WH"
      },
      "execution_count": null,
      "outputs": []
    },
    {
      "cell_type": "code",
      "source": [
        "df_train_for_label0.columns"
      ],
      "metadata": {
        "colab": {
          "base_uri": "https://localhost:8080/"
        },
        "id": "Sfh4hcB72dR4",
        "outputId": "84892e2f-64f2-4d5d-e219-1ac5d38860f2"
      },
      "execution_count": null,
      "outputs": [
        {
          "output_type": "execute_result",
          "data": {
            "text/plain": [
              "Index(['Unnamed: 0', 'label', 'tweet', 'id', 'tweets_encoded'], dtype='object')"
            ]
          },
          "metadata": {},
          "execution_count": 177
        }
      ]
    },
    {
      "cell_type": "code",
      "source": [
        "import numpy as np"
      ],
      "metadata": {
        "id": "FQWEBm2K3ApU"
      },
      "execution_count": null,
      "outputs": []
    },
    {
      "cell_type": "code",
      "source": [
        "def create_dataset(dataframe):\n",
        "  X_0 = np.array(dataframe[\"tweets_encoded\"].tolist())\n",
        "  X_0_new = []\n",
        "  for i in range(len(X_0)):\n",
        "    lst = X_0[i].strip('][').split(', ')\n",
        "    for i in range(len(lst)):\n",
        "      lst[i] = float(lst[i])\n",
        "    X_0_new.append(lst)\n",
        "  Y = dataframe[\"label\"].tolist()\n",
        "  return X_0_new, Y"
      ],
      "metadata": {
        "id": "i6ixf77P28Jd"
      },
      "execution_count": null,
      "outputs": []
    },
    {
      "cell_type": "code",
      "source": [
        "X_0, Y_0 = create_dataset(df_train_for_label0)"
      ],
      "metadata": {
        "id": "p_C8Sok-3Cw7"
      },
      "execution_count": null,
      "outputs": []
    },
    {
      "cell_type": "code",
      "source": [
        "X_0 = np.array(X_0)\n",
        "Y_0 = np.array(Y_0)"
      ],
      "metadata": {
        "id": "VvmLyPRw4RIJ"
      },
      "execution_count": null,
      "outputs": []
    },
    {
      "cell_type": "code",
      "source": [
        "X_1, Y_1 = create_dataset(df_train_for_label1)"
      ],
      "metadata": {
        "id": "snkF1DeA4e7t"
      },
      "execution_count": null,
      "outputs": []
    },
    {
      "cell_type": "code",
      "source": [
        "X_1 = np.array(X_1)\n",
        "Y_1 = np.array(Y_1)"
      ],
      "metadata": {
        "id": "5kh1TIMP4e7v"
      },
      "execution_count": null,
      "outputs": []
    },
    {
      "cell_type": "code",
      "source": [
        "X_2, Y_2 = create_dataset(df_train_for_label2)"
      ],
      "metadata": {
        "id": "7-7YsYIF4fPw"
      },
      "execution_count": null,
      "outputs": []
    },
    {
      "cell_type": "code",
      "source": [
        "X_2 = np.array(X_2)\n",
        "Y_2 = np.array(Y_2)"
      ],
      "metadata": {
        "id": "xro-jZ8p4fPx"
      },
      "execution_count": null,
      "outputs": []
    },
    {
      "cell_type": "code",
      "source": [
        "logistic_reg = LogisticRegression()\n",
        "grid = {\"penalty\" : ['l1', 'l2'], \"C\" : np.logspace(-3,3,7), \"solver\" : ['lbfgs', 'liblinear'], \"max_iter\":[1000]}\n",
        "gridsearch = GridSearchCV(logistic_reg, param_grid = grid, scoring = \"f1_macro\")"
      ],
      "metadata": {
        "id": "E_yzMsY7ajIl"
      },
      "execution_count": null,
      "outputs": []
    },
    {
      "cell_type": "code",
      "source": [
        "models = []\n",
        "models.append(gridsearch.fit(X_0, Y_0).best_estimator_.fit(X_0, Y_0))"
      ],
      "metadata": {
        "colab": {
          "base_uri": "https://localhost:8080/"
        },
        "id": "sid-7wFl1GOt",
        "outputId": "a58017ef-da6b-4439-ecd8-b932915932a5"
      },
      "execution_count": null,
      "outputs": [
        {
          "output_type": "stream",
          "name": "stderr",
          "text": [
            "/usr/local/lib/python3.8/dist-packages/sklearn/model_selection/_validation.py:372: FitFailedWarning: \n",
            "35 fits failed out of a total of 140.\n",
            "The score on these train-test partitions for these parameters will be set to nan.\n",
            "If these failures are not expected, you can try to debug them by setting error_score='raise'.\n",
            "\n",
            "Below are more details about the failures:\n",
            "--------------------------------------------------------------------------------\n",
            "35 fits failed with the following error:\n",
            "Traceback (most recent call last):\n",
            "  File \"/usr/local/lib/python3.8/dist-packages/sklearn/model_selection/_validation.py\", line 680, in _fit_and_score\n",
            "    estimator.fit(X_train, y_train, **fit_params)\n",
            "  File \"/usr/local/lib/python3.8/dist-packages/sklearn/linear_model/_logistic.py\", line 1461, in fit\n",
            "    solver = _check_solver(self.solver, self.penalty, self.dual)\n",
            "  File \"/usr/local/lib/python3.8/dist-packages/sklearn/linear_model/_logistic.py\", line 447, in _check_solver\n",
            "    raise ValueError(\n",
            "ValueError: Solver lbfgs supports only 'l2' or 'none' penalties, got l1 penalty.\n",
            "\n",
            "  warnings.warn(some_fits_failed_message, FitFailedWarning)\n",
            "/usr/local/lib/python3.8/dist-packages/sklearn/model_selection/_search.py:969: UserWarning: One or more of the test scores are non-finite: [       nan 0.48504821 0.48504821 0.48504821        nan 0.48504821\n",
            " 0.48504821 0.48504821        nan 0.48504821 0.48927749 0.49142058\n",
            "        nan 0.60503979 0.5967754  0.59599471        nan 0.63722318\n",
            " 0.63203115 0.63203115        nan 0.6348288  0.63600978 0.63600978\n",
            "        nan 0.63438017 0.63438017 0.63438017]\n",
            "  warnings.warn(\n"
          ]
        }
      ]
    },
    {
      "cell_type": "code",
      "source": [
        "models.append(gridsearch.fit(X_1, Y_1).best_estimator_.fit(X_1, Y_1))"
      ],
      "metadata": {
        "colab": {
          "base_uri": "https://localhost:8080/"
        },
        "id": "1wf4tlmA2xlX",
        "outputId": "231087e9-82f3-4688-d1e5-43edff0b5a9f"
      },
      "execution_count": null,
      "outputs": [
        {
          "output_type": "stream",
          "name": "stderr",
          "text": [
            "/usr/local/lib/python3.8/dist-packages/sklearn/model_selection/_validation.py:372: FitFailedWarning: \n",
            "35 fits failed out of a total of 140.\n",
            "The score on these train-test partitions for these parameters will be set to nan.\n",
            "If these failures are not expected, you can try to debug them by setting error_score='raise'.\n",
            "\n",
            "Below are more details about the failures:\n",
            "--------------------------------------------------------------------------------\n",
            "35 fits failed with the following error:\n",
            "Traceback (most recent call last):\n",
            "  File \"/usr/local/lib/python3.8/dist-packages/sklearn/model_selection/_validation.py\", line 680, in _fit_and_score\n",
            "    estimator.fit(X_train, y_train, **fit_params)\n",
            "  File \"/usr/local/lib/python3.8/dist-packages/sklearn/linear_model/_logistic.py\", line 1461, in fit\n",
            "    solver = _check_solver(self.solver, self.penalty, self.dual)\n",
            "  File \"/usr/local/lib/python3.8/dist-packages/sklearn/linear_model/_logistic.py\", line 447, in _check_solver\n",
            "    raise ValueError(\n",
            "ValueError: Solver lbfgs supports only 'l2' or 'none' penalties, got l1 penalty.\n",
            "\n",
            "  warnings.warn(some_fits_failed_message, FitFailedWarning)\n",
            "/usr/local/lib/python3.8/dist-packages/sklearn/model_selection/_search.py:969: UserWarning: One or more of the test scores are non-finite: [       nan 0.43732926 0.43732926 0.43732926        nan 0.43732926\n",
            " 0.45578514 0.46608641        nan 0.78786958 0.80695538 0.80665045\n",
            "        nan 0.82687832 0.82726052 0.82753386        nan 0.82738935\n",
            " 0.82911676 0.82900461        nan 0.82715592 0.82787423 0.82806567\n",
            "        nan 0.82725004 0.82751724 0.82740195]\n",
            "  warnings.warn(\n"
          ]
        }
      ]
    },
    {
      "cell_type": "code",
      "source": [
        "models.append(gridsearch.fit(X_2, Y_2).best_estimator_.fit(X_2, Y_2))"
      ],
      "metadata": {
        "colab": {
          "base_uri": "https://localhost:8080/"
        },
        "id": "1MWrcyi38Hem",
        "outputId": "f1f33bfb-e877-48bc-8656-47c082ca3ed7"
      },
      "execution_count": null,
      "outputs": [
        {
          "output_type": "stream",
          "name": "stderr",
          "text": [
            "/usr/local/lib/python3.8/dist-packages/sklearn/model_selection/_validation.py:372: FitFailedWarning: \n",
            "35 fits failed out of a total of 140.\n",
            "The score on these train-test partitions for these parameters will be set to nan.\n",
            "If these failures are not expected, you can try to debug them by setting error_score='raise'.\n",
            "\n",
            "Below are more details about the failures:\n",
            "--------------------------------------------------------------------------------\n",
            "35 fits failed with the following error:\n",
            "Traceback (most recent call last):\n",
            "  File \"/usr/local/lib/python3.8/dist-packages/sklearn/model_selection/_validation.py\", line 680, in _fit_and_score\n",
            "    estimator.fit(X_train, y_train, **fit_params)\n",
            "  File \"/usr/local/lib/python3.8/dist-packages/sklearn/linear_model/_logistic.py\", line 1461, in fit\n",
            "    solver = _check_solver(self.solver, self.penalty, self.dual)\n",
            "  File \"/usr/local/lib/python3.8/dist-packages/sklearn/linear_model/_logistic.py\", line 447, in _check_solver\n",
            "    raise ValueError(\n",
            "ValueError: Solver lbfgs supports only 'l2' or 'none' penalties, got l1 penalty.\n",
            "\n",
            "  warnings.warn(some_fits_failed_message, FitFailedWarning)\n",
            "/usr/local/lib/python3.8/dist-packages/sklearn/model_selection/_search.py:969: UserWarning: One or more of the test scores are non-finite: [       nan 0.45513261 0.45513261 0.45513261        nan 0.45513261\n",
            " 0.45513261 0.45553065        nan 0.81106221 0.82267304 0.82187095\n",
            "        nan 0.86965667 0.8669137  0.86696867        nan 0.87213287\n",
            " 0.87275566 0.87248259        nan 0.87270489 0.8728816  0.87301651\n",
            "        nan 0.87247283 0.87320639 0.87320639]\n",
            "  warnings.warn(\n"
          ]
        }
      ]
    },
    {
      "cell_type": "code",
      "source": [
        "X, Y = create_dataset(test)"
      ],
      "metadata": {
        "id": "deHj7lnn8Mcp"
      },
      "execution_count": null,
      "outputs": []
    },
    {
      "cell_type": "code",
      "source": [
        "result1 = models[0].predict(X)"
      ],
      "metadata": {
        "id": "Y0DgKqJr83ya"
      },
      "execution_count": null,
      "outputs": []
    },
    {
      "cell_type": "code",
      "source": [
        "result2 = models[1].predict(X)"
      ],
      "metadata": {
        "id": "kjJPQZel88li"
      },
      "execution_count": null,
      "outputs": []
    },
    {
      "cell_type": "code",
      "source": [
        "result3 = models[2].predict(X)"
      ],
      "metadata": {
        "id": "Xo9nkdjY9DMO"
      },
      "execution_count": null,
      "outputs": []
    },
    {
      "cell_type": "code",
      "source": [
        "import random\n",
        "def create_predicted(a, b, c):\n",
        "  ans = []\n",
        "  for i in range(len(a)):\n",
        "    dict = {0:0,1:0,2:0}\n",
        "    if a[i] >= 0:\n",
        "      dict[0] += 1\n",
        "      dict[1] -= 1\n",
        "      dict[2] -= 1\n",
        "    else:\n",
        "      a[i] = -1\n",
        "\n",
        "    if b[i] >= 0:\n",
        "      dict[1] += 1\n",
        "      dict[0] -= 1\n",
        "      dict[2] -= 1\n",
        "\n",
        "    else:\n",
        "      b[i] = -1\n",
        "\n",
        "    if c[i] >= 0:\n",
        "      dict[2] += 1\n",
        "      dict[0] -= 1\n",
        "      dict[1] -= 1\n",
        "    else:\n",
        "      c[i] =-1\n",
        "    if(b[i] > a[i] and b[i] > c[i]):\n",
        "      ans.append(1)\n",
        "    elif(b[i] < a[i] and a[i] > c[i]):\n",
        "      ans.append(0)\n",
        "    elif((c[i] > a[i] and b[i] < c[i])):\n",
        "      ans.append(2)\n",
        "    else:\n",
        "      ans.append(1)\n",
        "\n",
        "  return ans"
      ],
      "metadata": {
        "id": "ln1fV6qG9E6U"
      },
      "execution_count": null,
      "outputs": []
    },
    {
      "cell_type": "code",
      "source": [
        "max(result3)"
      ],
      "metadata": {
        "colab": {
          "base_uri": "https://localhost:8080/"
        },
        "id": "qnv-GW6WJk_r",
        "outputId": "9c016186-1145-4f34-b73b-b58c7988994b"
      },
      "execution_count": null,
      "outputs": [
        {
          "output_type": "execute_result",
          "data": {
            "text/plain": [
              "2"
            ]
          },
          "metadata": {},
          "execution_count": 251
        }
      ]
    },
    {
      "cell_type": "code",
      "source": [
        "ans = create_predicted(result1, result2, result3)"
      ],
      "metadata": {
        "id": "B7mmRP_d9mqb"
      },
      "execution_count": null,
      "outputs": []
    },
    {
      "cell_type": "code",
      "source": [
        "from sklearn.metrics import f1_score\n"
      ],
      "metadata": {
        "id": "_8MeTCZYCY0h"
      },
      "execution_count": null,
      "outputs": []
    },
    {
      "cell_type": "code",
      "source": [
        "f1_score(Y, ans, average='macro')"
      ],
      "metadata": {
        "colab": {
          "base_uri": "https://localhost:8080/"
        },
        "id": "oL8BgTLGCh40",
        "outputId": "fa91bbd9-08d1-48c8-e157-45109b6746d5"
      },
      "execution_count": null,
      "outputs": [
        {
          "output_type": "execute_result",
          "data": {
            "text/plain": [
              "0.6687827902817552"
            ]
          },
          "metadata": {},
          "execution_count": 254
        }
      ]
    },
    {
      "cell_type": "code",
      "source": [
        "max(result1)"
      ],
      "metadata": {
        "colab": {
          "base_uri": "https://localhost:8080/"
        },
        "id": "PyWSNUvoCj5S",
        "outputId": "b29840e3-6201-4eab-efa1-7e4e339bab06"
      },
      "execution_count": null,
      "outputs": [
        {
          "output_type": "execute_result",
          "data": {
            "text/plain": [
              "0"
            ]
          },
          "metadata": {},
          "execution_count": 255
        }
      ]
    },
    {
      "cell_type": "code",
      "source": [
        "max(result2)"
      ],
      "metadata": {
        "colab": {
          "base_uri": "https://localhost:8080/"
        },
        "id": "PMOM4N9EJ2zS",
        "outputId": "3d7224de-fe0d-4d10-87a2-89f101067f5c"
      },
      "execution_count": null,
      "outputs": [
        {
          "output_type": "execute_result",
          "data": {
            "text/plain": [
              "1"
            ]
          },
          "metadata": {},
          "execution_count": 256
        }
      ]
    },
    {
      "cell_type": "code",
      "source": [],
      "metadata": {
        "id": "VINYNZT6J37o"
      },
      "execution_count": null,
      "outputs": []
    }
  ]
}